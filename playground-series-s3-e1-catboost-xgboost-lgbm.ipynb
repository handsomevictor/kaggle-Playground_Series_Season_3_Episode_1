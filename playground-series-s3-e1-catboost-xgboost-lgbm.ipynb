{
 "metadata": {
  "kernelspec": {
   "language": "python",
   "display_name": "Python 3",
   "name": "python3"
  },
  "language_info": {
   "name": "python",
   "version": "3.7.12",
   "mimetype": "text/x-python",
   "codemirror_mode": {
    "name": "ipython",
    "version": 3
   },
   "pygments_lexer": "ipython3",
   "nbconvert_exporter": "python",
   "file_extension": ".py"
  }
 },
 "nbformat_minor": 4,
 "nbformat": 4,
 "cells": [
  {
   "cell_type": "markdown",
   "source": [
    "**Please upvote my notebook if You like it! :)**"
   ],
   "metadata": {}
  },
  {
   "cell_type": "code",
   "source": [
    "# This Python 3 environment comes with many helpful analytics libraries installed\n",
    "# It is defined by the kaggle/python Docker image: https://github.com/kaggle/docker-python\n",
    "# For example, here's several helpful packages to load\n",
    "\n",
    "import numpy as np # linear algebra\n",
    "import pandas as pd # data processing, CSV file I/O (e.g. pd.read_csv)\n",
    "from sklearn.model_selection import train_test_split\n",
    "from sklearn.datasets import fetch_california_housing\n",
    "\n",
    "# Input data files are available in the read-only \"../input/\" directory\n",
    "# For example, running this (by clicking run or pressing Shift+Enter) will list all files under the input directory\n",
    "\n",
    "import os"
   ],
   "metadata": {
    "_uuid": "8f2839f25d086af736a60e9eeb907d3b93b6e0e5",
    "_cell_guid": "b1076dfc-b9ad-4769-8c92-a6c4dae69d19",
    "execution": {
     "iopub.status.busy": "2023-01-08T04:34:42.479501Z",
     "iopub.execute_input": "2023-01-08T04:34:42.480191Z",
     "iopub.status.idle": "2023-01-08T04:34:43.515295Z",
     "shell.execute_reply.started": "2023-01-08T04:34:42.480110Z",
     "shell.execute_reply": "2023-01-08T04:34:43.514333Z"
    },
    "trusted": true
   },
   "execution_count": 1,
   "outputs": []
  },
  {
   "cell_type": "code",
   "source": [
    "!pip install reverse_geocoder"
   ],
   "metadata": {
    "execution": {
     "iopub.status.busy": "2023-01-08T04:34:43.517545Z",
     "iopub.execute_input": "2023-01-08T04:34:43.517897Z",
     "iopub.status.idle": "2023-01-08T04:34:57.016330Z",
     "shell.execute_reply.started": "2023-01-08T04:34:43.517864Z",
     "shell.execute_reply": "2023-01-08T04:34:57.015024Z"
    },
    "trusted": true
   },
   "execution_count": 2,
   "outputs": [
    {
     "name": "stdout",
     "output_type": "stream",
     "text": [
      "Requirement already satisfied: reverse_geocoder in /Users/zhenningli/opt/anaconda3/lib/python3.9/site-packages (1.5.1)\r\n",
      "Requirement already satisfied: numpy>=1.11.0 in /Users/zhenningli/opt/anaconda3/lib/python3.9/site-packages (from reverse_geocoder) (1.21.5)\r\n",
      "Requirement already satisfied: scipy>=0.17.1 in /Users/zhenningli/opt/anaconda3/lib/python3.9/site-packages (from reverse_geocoder) (1.7.3)\r\n"
     ]
    }
   ]
  },
  {
   "cell_type": "markdown",
   "source": [
    "**Downloading data**"
   ],
   "metadata": {}
  },
  {
   "cell_type": "code",
   "source": [
    "train_df = pd.read_csv('train.csv')\n",
    "test_df = pd.read_csv('test.csv')\n",
    "submission = pd.read_csv('sample_submission.csv')\n",
    "train_df = train_df.drop('id', axis=1)"
   ],
   "metadata": {
    "execution": {
     "iopub.status.busy": "2023-01-08T04:34:57.017834Z",
     "iopub.execute_input": "2023-01-08T04:34:57.018238Z",
     "iopub.status.idle": "2023-01-08T04:34:57.191434Z",
     "shell.execute_reply.started": "2023-01-08T04:34:57.018202Z",
     "shell.execute_reply": "2023-01-08T04:34:57.189950Z"
    },
    "trusted": true
   },
   "execution_count": 3,
   "outputs": []
  },
  {
   "cell_type": "code",
   "source": [
    "extra_data = fetch_california_housing()\n",
    "train_data2 = pd.DataFrame(extra_data['data'])\n",
    "train_data2['MedHouseVal'] = extra_data['target']\n",
    "train_data2.columns = train_df.columns\n",
    "train_df['generated'] = 1\n",
    "test_df['generated'] = 1\n",
    "train_data2['generated'] = 0\n",
    "# train_df = pd.concat([train_df, train_data2],axis=0).drop_duplicates()\n",
    "train_df = pd.concat([train_df, train_data2],axis=0, ignore_index=True)\n",
    "\n",
    "train_df.loc[33228,['Latitude','Longitude']] = [32.74, -117]\n",
    "train_df.loc[34363,['Latitude','Longitude']] = [32.71, -117]\n",
    "train_df.loc[20991,['Latitude','Longitude']] = [34.2, -119]\n",
    "\n",
    "print(train_df.shape)\n",
    "train_df.head()"
   ],
   "metadata": {
    "execution": {
     "iopub.status.busy": "2023-01-08T04:34:57.195520Z",
     "iopub.execute_input": "2023-01-08T04:34:57.195879Z",
     "iopub.status.idle": "2023-01-08T04:34:58.114635Z",
     "shell.execute_reply.started": "2023-01-08T04:34:57.195851Z",
     "shell.execute_reply": "2023-01-08T04:34:58.113955Z"
    },
    "trusted": true
   },
   "execution_count": 4,
   "outputs": [
    {
     "name": "stdout",
     "output_type": "stream",
     "text": [
      "(57777, 10)\n"
     ]
    },
    {
     "data": {
      "text/plain": "   MedInc  HouseAge  AveRooms  AveBedrms  Population  AveOccup  Latitude  \\\n0  2.3859      15.0  3.827160   1.112100      1280.0  2.486989     34.60   \n1  3.7188      17.0  6.013373   1.054217      1504.0  3.813084     38.69   \n2  4.7750      27.0  6.535604   1.103175      1061.0  2.464602     34.71   \n3  2.4138      16.0  3.350203   0.965432      1255.0  2.089286     32.66   \n4  3.7500      52.0  4.284404   1.069246      1793.0  1.604790     37.80   \n\n   Longitude  MedHouseVal  generated  \n0    -120.12        0.980          1  \n1    -121.22        0.946          1  \n2    -120.45        1.576          1  \n3    -117.09        1.336          1  \n4    -122.41        4.500          1  ",
      "text/html": "<div>\n<style scoped>\n    .dataframe tbody tr th:only-of-type {\n        vertical-align: middle;\n    }\n\n    .dataframe tbody tr th {\n        vertical-align: top;\n    }\n\n    .dataframe thead th {\n        text-align: right;\n    }\n</style>\n<table border=\"1\" class=\"dataframe\">\n  <thead>\n    <tr style=\"text-align: right;\">\n      <th></th>\n      <th>MedInc</th>\n      <th>HouseAge</th>\n      <th>AveRooms</th>\n      <th>AveBedrms</th>\n      <th>Population</th>\n      <th>AveOccup</th>\n      <th>Latitude</th>\n      <th>Longitude</th>\n      <th>MedHouseVal</th>\n      <th>generated</th>\n    </tr>\n  </thead>\n  <tbody>\n    <tr>\n      <th>0</th>\n      <td>2.3859</td>\n      <td>15.0</td>\n      <td>3.827160</td>\n      <td>1.112100</td>\n      <td>1280.0</td>\n      <td>2.486989</td>\n      <td>34.60</td>\n      <td>-120.12</td>\n      <td>0.980</td>\n      <td>1</td>\n    </tr>\n    <tr>\n      <th>1</th>\n      <td>3.7188</td>\n      <td>17.0</td>\n      <td>6.013373</td>\n      <td>1.054217</td>\n      <td>1504.0</td>\n      <td>3.813084</td>\n      <td>38.69</td>\n      <td>-121.22</td>\n      <td>0.946</td>\n      <td>1</td>\n    </tr>\n    <tr>\n      <th>2</th>\n      <td>4.7750</td>\n      <td>27.0</td>\n      <td>6.535604</td>\n      <td>1.103175</td>\n      <td>1061.0</td>\n      <td>2.464602</td>\n      <td>34.71</td>\n      <td>-120.45</td>\n      <td>1.576</td>\n      <td>1</td>\n    </tr>\n    <tr>\n      <th>3</th>\n      <td>2.4138</td>\n      <td>16.0</td>\n      <td>3.350203</td>\n      <td>0.965432</td>\n      <td>1255.0</td>\n      <td>2.089286</td>\n      <td>32.66</td>\n      <td>-117.09</td>\n      <td>1.336</td>\n      <td>1</td>\n    </tr>\n    <tr>\n      <th>4</th>\n      <td>3.7500</td>\n      <td>52.0</td>\n      <td>4.284404</td>\n      <td>1.069246</td>\n      <td>1793.0</td>\n      <td>1.604790</td>\n      <td>37.80</td>\n      <td>-122.41</td>\n      <td>4.500</td>\n      <td>1</td>\n    </tr>\n  </tbody>\n</table>\n</div>"
     },
     "execution_count": 4,
     "metadata": {},
     "output_type": "execute_result"
    }
   ]
  },
  {
   "cell_type": "code",
   "source": [
    "train_df['r'] = np.sqrt(train_df['Latitude']**2 + train_df['Longitude']**2)\n",
    "train_df['theta'] = np.arctan2(train_df['Latitude'], train_df['Longitude'])\n",
    "\n",
    "test_df['r'] = np.sqrt(test_df['Latitude']**2 + test_df['Longitude']**2)\n",
    "test_df['theta'] = np.arctan2(test_df['Latitude'], test_df['Longitude'])"
   ],
   "metadata": {
    "execution": {
     "iopub.status.busy": "2023-01-08T04:34:58.116687Z",
     "iopub.execute_input": "2023-01-08T04:34:58.117572Z",
     "iopub.status.idle": "2023-01-08T04:34:58.131489Z",
     "shell.execute_reply.started": "2023-01-08T04:34:58.117543Z",
     "shell.execute_reply": "2023-01-08T04:34:58.130298Z"
    },
    "trusted": true
   },
   "execution_count": 5,
   "outputs": []
  },
  {
   "cell_type": "code",
   "source": [
    "df = pd.concat([train_df, test_df], axis=0, ignore_index=True)"
   ],
   "metadata": {
    "execution": {
     "iopub.status.busy": "2023-01-08T04:34:58.133170Z",
     "iopub.execute_input": "2023-01-08T04:34:58.133704Z",
     "iopub.status.idle": "2023-01-08T04:34:58.144713Z",
     "shell.execute_reply.started": "2023-01-08T04:34:58.133670Z",
     "shell.execute_reply": "2023-01-08T04:34:58.143577Z"
    },
    "trusted": true
   },
   "execution_count": 6,
   "outputs": []
  },
  {
   "cell_type": "markdown",
   "source": [
    "Encoding trick (see here: https://www.kaggle.com/competitions/playground-series-s3e1/discussion/376210)"
   ],
   "metadata": {}
  },
  {
   "cell_type": "code",
   "source": [
    "emb_size = 20\n",
    "precision = 1e6 \n",
    "\n",
    "latlon = np.expand_dims(df[['Latitude', 'Longitude']].values, axis=-1) \n",
    "\n",
    "m = np.exp(np.log(precision) / emb_size) \n",
    "angle_freq = m ** np.arange(emb_size) \n",
    "angle_freq = angle_freq.reshape(1, 1, emb_size) \n",
    "\n",
    "latlon = latlon * angle_freq \n",
    "latlon[..., 0::2] = np.cos(latlon[..., 0::2]) \n",
    "latlon[..., 1::2] = np.sin(latlon[..., 1::2]) \n",
    "latlon = latlon.reshape(-1, 2 * emb_size) \n",
    "\n",
    "df['exp_latlon1'] = [lat[0] for lat in latlon]\n",
    "df['exp_latlon2'] = [lat[1] for lat in latlon]"
   ],
   "metadata": {
    "execution": {
     "iopub.status.busy": "2023-01-08T04:34:58.145986Z",
     "iopub.execute_input": "2023-01-08T04:34:58.146311Z",
     "iopub.status.idle": "2023-01-08T04:34:58.293939Z",
     "shell.execute_reply.started": "2023-01-08T04:34:58.146281Z",
     "shell.execute_reply": "2023-01-08T04:34:58.292910Z"
    },
    "trusted": true
   },
   "execution_count": 7,
   "outputs": []
  },
  {
   "cell_type": "markdown",
   "source": [
    "Thanks to @dmitryuarov for feature engineering ideas with coordinates! Please, upvote his notebook: https://www.kaggle.com/code/dmitryuarov/ps-s3e1-coordinates-key-to-victory"
   ],
   "metadata": {}
  },
  {
   "cell_type": "code",
   "source": [
    "from sklearn.decomposition import PCA\n",
    "\n",
    "def pca(data):\n",
    "    '''\n",
    "    input: dataframe containing Latitude(x) and Longitude(y)\n",
    "    '''\n",
    "    coordinates = data[['Latitude','Latitude']].values\n",
    "    pca_obj = PCA().fit(coordinates)\n",
    "    pca_x = pca_obj.transform(data[['Latitude', 'Longitude']].values)[:,0]\n",
    "    pca_y = pca_obj.transform(data[['Latitude', 'Longitude']].values)[:,1]\n",
    "    return pca_x, pca_y\n",
    "\n",
    "# train_df['pca_x'], train_df['pca_y'] = pca(train_df)\n",
    "# test_df['pca_x'], test_df['pca_y'] = pca(test_df)\n",
    "df['pca_x'], df['pca_y'] = pca(df)"
   ],
   "metadata": {
    "execution": {
     "iopub.status.busy": "2023-01-08T04:34:58.295324Z",
     "iopub.execute_input": "2023-01-08T04:34:58.295802Z",
     "iopub.status.idle": "2023-01-08T04:34:58.425074Z",
     "shell.execute_reply.started": "2023-01-08T04:34:58.295774Z",
     "shell.execute_reply": "2023-01-08T04:34:58.424281Z"
    },
    "trusted": true
   },
   "execution_count": 8,
   "outputs": []
  },
  {
   "cell_type": "code",
   "execution_count": 18,
   "outputs": [
    {
     "name": "stdout",
     "output_type": "stream",
     "text": [
      "^C\r\n",
      "\u001B[31mERROR: Operation cancelled by user\u001B[0m\r\n",
      "\u001B[31mERROR: Invalid requirement: '-'\u001B[0m\r\n",
      "\u001B[31mERROR: Invalid requirement: '-'\u001B[0m\r\n"
     ]
    }
   ],
   "source": [
    "!pip uninstall umap - y"
   ],
   "metadata": {
    "collapsed": false
   }
  },
  {
   "cell_type": "code",
   "execution_count": 21,
   "outputs": [
    {
     "name": "stdout",
     "output_type": "stream",
     "text": [
      "Requirement already satisfied: umap-learn in /Users/zhenningli/opt/anaconda3/lib/python3.9/site-packages (0.5.3)\r\n",
      "Requirement already satisfied: numpy>=1.17 in /Users/zhenningli/opt/anaconda3/lib/python3.9/site-packages (from umap-learn) (1.21.5)\r\n",
      "Requirement already satisfied: scikit-learn>=0.22 in /Users/zhenningli/opt/anaconda3/lib/python3.9/site-packages (from umap-learn) (1.0.2)\r\n",
      "Requirement already satisfied: tqdm in /Users/zhenningli/opt/anaconda3/lib/python3.9/site-packages (from umap-learn) (4.64.0)\r\n",
      "Requirement already satisfied: pynndescent>=0.5 in /Users/zhenningli/opt/anaconda3/lib/python3.9/site-packages (from umap-learn) (0.5.8)\r\n",
      "Requirement already satisfied: numba>=0.49 in /Users/zhenningli/opt/anaconda3/lib/python3.9/site-packages (from umap-learn) (0.55.1)\r\n",
      "Requirement already satisfied: scipy>=1.0 in /Users/zhenningli/opt/anaconda3/lib/python3.9/site-packages (from umap-learn) (1.7.3)\r\n",
      "Requirement already satisfied: llvmlite<0.39,>=0.38.0rc1 in /Users/zhenningli/opt/anaconda3/lib/python3.9/site-packages (from numba>=0.49->umap-learn) (0.38.0)\r\n",
      "Requirement already satisfied: setuptools in /Users/zhenningli/opt/anaconda3/lib/python3.9/site-packages (from numba>=0.49->umap-learn) (65.3.0)\r\n",
      "Requirement already satisfied: joblib>=0.11 in /Users/zhenningli/opt/anaconda3/lib/python3.9/site-packages (from pynndescent>=0.5->umap-learn) (1.1.0)\r\n",
      "Requirement already satisfied: threadpoolctl>=2.0.0 in /Users/zhenningli/opt/anaconda3/lib/python3.9/site-packages (from scikit-learn>=0.22->umap-learn) (2.2.0)\r\n"
     ]
    }
   ],
   "source": [
    "!pip install umap-learn"
   ],
   "metadata": {
    "collapsed": false
   }
  },
  {
   "cell_type": "code",
   "source": [
    "import umap.umap_ as UMAP\n",
    "coordinates = df[['Latitude', 'Longitude']].values\n",
    "umap = UMAP(n_components=2, n_neighbors=50, random_state=228).fit(coordinates)\n",
    "df['umap_lat'] = umap.transform(coordinates)[:,0]\n",
    "df['umap_lon'] = umap.transform(coordinates)[:,1]"
   ],
   "metadata": {
    "execution": {
     "iopub.status.busy": "2023-01-08T04:34:58.426344Z",
     "iopub.execute_input": "2023-01-08T04:34:58.426809Z",
     "iopub.status.idle": "2023-01-08T04:39:27.608931Z",
     "shell.execute_reply.started": "2023-01-08T04:34:58.426781Z",
     "shell.execute_reply": "2023-01-08T04:39:27.607936Z"
    },
    "trusted": true
   },
   "execution_count": 24,
   "outputs": [
    {
     "ename": "TypeError",
     "evalue": "'module' object is not callable",
     "output_type": "error",
     "traceback": [
      "\u001B[0;31m---------------------------------------------------------------------------\u001B[0m",
      "\u001B[0;31mTypeError\u001B[0m                                 Traceback (most recent call last)",
      "Input \u001B[0;32mIn [24]\u001B[0m, in \u001B[0;36m<cell line: 3>\u001B[0;34m()\u001B[0m\n\u001B[1;32m      1\u001B[0m \u001B[38;5;28;01mimport\u001B[39;00m \u001B[38;5;21;01mumap\u001B[39;00m\u001B[38;5;21;01m.\u001B[39;00m\u001B[38;5;21;01mumap_\u001B[39;00m \u001B[38;5;28;01mas\u001B[39;00m \u001B[38;5;21;01mUMAP\u001B[39;00m\n\u001B[1;32m      2\u001B[0m coordinates \u001B[38;5;241m=\u001B[39m df[[\u001B[38;5;124m'\u001B[39m\u001B[38;5;124mLatitude\u001B[39m\u001B[38;5;124m'\u001B[39m, \u001B[38;5;124m'\u001B[39m\u001B[38;5;124mLongitude\u001B[39m\u001B[38;5;124m'\u001B[39m]]\u001B[38;5;241m.\u001B[39mvalues\n\u001B[0;32m----> 3\u001B[0m umap \u001B[38;5;241m=\u001B[39m \u001B[43mUMAP\u001B[49m\u001B[43m(\u001B[49m\u001B[43mn_components\u001B[49m\u001B[38;5;241;43m=\u001B[39;49m\u001B[38;5;241;43m2\u001B[39;49m\u001B[43m,\u001B[49m\u001B[43m \u001B[49m\u001B[43mn_neighbors\u001B[49m\u001B[38;5;241;43m=\u001B[39;49m\u001B[38;5;241;43m50\u001B[39;49m\u001B[43m,\u001B[49m\u001B[43m \u001B[49m\u001B[43mrandom_state\u001B[49m\u001B[38;5;241;43m=\u001B[39;49m\u001B[38;5;241;43m228\u001B[39;49m\u001B[43m)\u001B[49m\u001B[38;5;241m.\u001B[39mfit(coordinates)\n\u001B[1;32m      4\u001B[0m df[\u001B[38;5;124m'\u001B[39m\u001B[38;5;124mumap_lat\u001B[39m\u001B[38;5;124m'\u001B[39m] \u001B[38;5;241m=\u001B[39m umap\u001B[38;5;241m.\u001B[39mtransform(coordinates)[:,\u001B[38;5;241m0\u001B[39m]\n\u001B[1;32m      5\u001B[0m df[\u001B[38;5;124m'\u001B[39m\u001B[38;5;124mumap_lon\u001B[39m\u001B[38;5;124m'\u001B[39m] \u001B[38;5;241m=\u001B[39m umap\u001B[38;5;241m.\u001B[39mtransform(coordinates)[:,\u001B[38;5;241m1\u001B[39m]\n",
      "\u001B[0;31mTypeError\u001B[0m: 'module' object is not callable"
     ]
    }
   ]
  },
  {
   "cell_type": "code",
   "source": [
    "def crt_crds(df): \n",
    "    df['rot_15_x'] = (np.cos(np.radians(15)) * df['Longitude']) + \\\n",
    "                      (np.sin(np.radians(15)) * df['Latitude'])\n",
    "    \n",
    "    df['rot_15_y'] = (np.cos(np.radians(15)) * df['Latitude']) + \\\n",
    "                      (np.sin(np.radians(15)) * df['Longitude'])\n",
    "    \n",
    "    df['rot_30_x'] = (np.cos(np.radians(30)) * df['Longitude']) + \\\n",
    "                      (np.sin(np.radians(30)) * df['Latitude'])\n",
    "    \n",
    "    df['rot_30_y'] = (np.cos(np.radians(30)) * df['Latitude']) + \\\n",
    "                      (np.sin(np.radians(30)) * df['Longitude'])\n",
    "    \n",
    "    df['rot_45_x'] = (np.cos(np.radians(45)) * df['Longitude']) + \\\n",
    "                      (np.sin(np.radians(45)) * df['Latitude'])\n",
    "    return df\n",
    "\n",
    "# train_df = crt_crds(train_df)\n",
    "# test_df = crt_crds(test_df)\n",
    "df = crt_crds(df)"
   ],
   "metadata": {
    "execution": {
     "iopub.status.busy": "2023-01-08T04:39:27.610117Z",
     "iopub.execute_input": "2023-01-08T04:39:27.610736Z",
     "iopub.status.idle": "2023-01-08T04:39:27.626690Z",
     "shell.execute_reply.started": "2023-01-08T04:39:27.610705Z",
     "shell.execute_reply": "2023-01-08T04:39:27.625455Z"
    },
    "trusted": true
   },
   "execution_count": 12,
   "outputs": []
  },
  {
   "cell_type": "code",
   "source": [
    "import reverse_geocoder as rg\n",
    "from sklearn.preprocessing import LabelEncoder\n",
    "\n",
    "def geocoder(df):\n",
    "    coordinates = list(zip(df['Latitude'], df['Longitude']))\n",
    "    results = rg.search(coordinates)\n",
    "    return results\n",
    "\n",
    "# results = geocoder(train_df)\n",
    "# train_df['place'] = [x['admin2'] for x in results]\n",
    "# results = geocoder(test_df)\n",
    "# test_df['place'] = [x['admin2'] for x in results]\n",
    "\n",
    "results = geocoder(df)\n",
    "df['place'] = [x['admin2'] for x in results]\n",
    "\n",
    "places = ['Los Angeles County', 'Orange County', 'Kern County',\n",
    "          'Alameda County', 'San Francisco County', 'Ventura County',\n",
    "          'Santa Clara County', 'Fresno County', 'Santa Barbara County',\n",
    "          'Contra Costa County', 'Yolo County', 'Monterey County',\n",
    "          'Riverside County', 'Napa County']\n",
    "\n",
    "def replace(x):\n",
    "    if x in places:\n",
    "        return x\n",
    "    else:\n",
    "        return 'Other'\n",
    "    \n",
    "# train_df['place'] = train_df['place'].apply(lambda x: replace(x))\n",
    "# test_df['place'] = test_df['place'].apply(lambda x: replace(x))\n",
    "\n",
    "df['place'] = df['place'].apply(lambda x: replace(x))\n",
    "\n",
    "# le = LabelEncoder()\n",
    "# train_df['place'] = le.fit_transform(train_df['place'])\n",
    "# test_df['place'] = le.transform(test_df['place'])\n",
    "\n",
    "# test_df = pd.get_dummies(test_df)\n",
    "# train_df = pd.get_dummies(train_df)\n",
    "\n",
    "df = pd.get_dummies(df)"
   ],
   "metadata": {
    "execution": {
     "iopub.status.busy": "2023-01-08T04:39:27.628397Z",
     "iopub.execute_input": "2023-01-08T04:39:27.629146Z",
     "iopub.status.idle": "2023-01-08T04:39:28.784645Z",
     "shell.execute_reply.started": "2023-01-08T04:39:27.629110Z",
     "shell.execute_reply": "2023-01-08T04:39:28.783558Z"
    },
    "trusted": true
   },
   "execution_count": 11,
   "outputs": [
    {
     "name": "stdout",
     "text": "Loading formatted geocoded file...\n",
     "output_type": "stream"
    }
   ]
  },
  {
   "cell_type": "markdown",
   "source": [
    "Distances to cities and coast points"
   ],
   "metadata": {}
  },
  {
   "cell_type": "code",
   "source": [
    "from haversine import haversine\n",
    "\n",
    "Sac = (38.576931, -121.494949)\n",
    "SF = (37.780080, -122.420160)\n",
    "SJ = (37.334789, -121.888138)\n",
    "LA = (34.052235, -118.243683)\n",
    "SD = (32.715759, -117.163818)\n",
    "\n",
    "df['dist_Sac'] = df.apply(lambda x: haversine((x['Latitude'], x['Longitude']), Sac, unit='ft'), axis=1)\n",
    "df['dist_SF'] = df.apply(lambda x: haversine((x['Latitude'], x['Longitude']), SF, unit='ft'), axis=1)\n",
    "df['dist_SJ'] = df.apply(lambda x: haversine((x['Latitude'], x['Longitude']), SJ, unit='ft'), axis=1)\n",
    "df['dist_LA'] = df.apply(lambda x: haversine((x['Latitude'], x['Longitude']), LA, unit='ft'), axis=1)\n",
    "df['dist_SD'] = df.apply(lambda x: haversine((x['Latitude'], x['Longitude']), SD, unit='ft'), axis=1)\n",
    "df['dist_nearest_city'] = df[['dist_Sac', 'dist_SF', 'dist_SJ', \n",
    "                              'dist_LA', 'dist_SD']].min(axis=1)"
   ],
   "metadata": {
    "execution": {
     "iopub.status.busy": "2023-01-08T04:39:28.786162Z",
     "iopub.execute_input": "2023-01-08T04:39:28.786494Z",
     "iopub.status.idle": "2023-01-08T04:39:35.886100Z",
     "shell.execute_reply.started": "2023-01-08T04:39:28.786461Z",
     "shell.execute_reply": "2023-01-08T04:39:35.885183Z"
    },
    "trusted": true
   },
   "execution_count": 12,
   "outputs": []
  },
  {
   "cell_type": "code",
   "source": [
    "from shapely.geometry import LineString, Point\n",
    "\n",
    "coast_points = LineString([(32.6644, -117.1613), (33.2064, -117.3831),\n",
    "                           (33.7772, -118.2024), (34.4634, -120.0144),\n",
    "                           (35.4273, -120.8819), (35.9284, -121.4892),\n",
    "                           (36.9827, -122.0289), (37.6114, -122.4916),\n",
    "                           (38.3556, -123.0603), (39.7926, -123.8217),\n",
    "                           (40.7997, -124.1881), (41.7558, -124.1976)])\n",
    "\n",
    "df['dist_to_coast'] = df.apply(lambda x: Point(x['Latitude'], x['Longitude']).distance(coast_points), axis=1)"
   ],
   "metadata": {
    "execution": {
     "iopub.status.busy": "2023-01-08T04:39:35.887225Z",
     "iopub.execute_input": "2023-01-08T04:39:35.887483Z",
     "iopub.status.idle": "2023-01-08T04:39:38.487584Z",
     "shell.execute_reply.started": "2023-01-08T04:39:35.887459Z",
     "shell.execute_reply": "2023-01-08T04:39:38.486250Z"
    },
    "trusted": true
   },
   "execution_count": 13,
   "outputs": []
  },
  {
   "cell_type": "code",
   "source": [
    "df"
   ],
   "metadata": {
    "execution": {
     "iopub.status.busy": "2023-01-08T04:39:38.491330Z",
     "iopub.execute_input": "2023-01-08T04:39:38.491613Z",
     "iopub.status.idle": "2023-01-08T04:39:38.531650Z",
     "shell.execute_reply.started": "2023-01-08T04:39:38.491588Z",
     "shell.execute_reply": "2023-01-08T04:39:38.530820Z"
    },
    "trusted": true
   },
   "execution_count": 14,
   "outputs": [
    {
     "execution_count": 14,
     "output_type": "execute_result",
     "data": {
      "text/plain": "       MedInc  HouseAge  AveRooms  AveBedrms  Population  AveOccup  Latitude  \\\n0      2.3859      15.0  3.827160   1.112100      1280.0  2.486989     34.60   \n1      3.7188      17.0  6.013373   1.054217      1504.0  3.813084     38.69   \n2      4.7750      27.0  6.535604   1.103175      1061.0  2.464602     34.71   \n3      2.4138      16.0  3.350203   0.965432      1255.0  2.089286     32.66   \n4      3.7500      52.0  4.284404   1.069246      1793.0  1.604790     37.80   \n...       ...       ...       ...        ...         ...       ...       ...   \n82531  2.2875      34.0  3.914729   1.085271       866.0  2.071429     34.44   \n82532  3.0781      33.0  4.771971   1.038674      1628.0  2.326848     34.09   \n82533  2.6961      14.0  4.593960   1.170380      3900.0  2.540034     37.51   \n82534  7.2315       8.0  7.508403   1.018692      1388.0  2.601202     33.67   \n82535  5.7260      30.0  6.000000   1.000000        15.0  2.500000     37.96   \n\n       Longitude  MedHouseVal  generated  ...  place_Santa Clara County  \\\n0        -120.12        0.980          1  ...                         0   \n1        -121.22        0.946          1  ...                         0   \n2        -120.45        1.576          1  ...                         0   \n3        -117.09        1.336          1  ...                         0   \n4        -122.41        4.500          1  ...                         0   \n...          ...          ...        ...  ...                       ...   \n82531    -119.75          NaN          1  ...                         0   \n82532    -117.96          NaN          1  ...                         0   \n82533    -120.83          NaN          1  ...                         0   \n82534    -117.98          NaN          1  ...                         0   \n82535    -122.47          NaN          1  ...                         0   \n\n       place_Ventura County  place_Yolo County      dist_Sac       dist_SF  \\\n0                         0                  0  1.505644e+06  1.343215e+06   \n1                         0                  0  8.854832e+04  4.779710e+05   \n2                         0                  0  1.443453e+06  1.261031e+06   \n3                         0                  0  2.522266e+06  2.451054e+06   \n4                         0                  0  3.862307e+05  7.835185e+03   \n...                     ...                ...           ...           ...   \n82531                     0                  0  1.593486e+06  1.450374e+06   \n82532                     0                  0  1.938327e+06  1.883101e+06   \n82533                     0                  0  4.335840e+05  4.697798e+05   \n82534                     0                  0  2.067732e+06  1.993824e+06   \n82535                     0                  0  3.586724e+05  6.718821e+04   \n\n            dist_SJ       dist_LA       dist_SD  dist_nearest_city  \\\n0      1.125962e+06  5.995613e+05  1.130527e+06      599561.346601   \n1      5.303822e+05  1.904151e+06  2.488078e+06       88548.323144   \n2      1.047325e+06  7.062707e+05  1.234280e+06      706270.711605   \n3      2.227410e+06  6.176880e+05  3.045445e+04       30454.454611   \n4      2.271009e+05  1.839177e+06  2.424468e+06        7835.184568   \n...             ...           ...           ...                ...   \n82531  1.230603e+06  4.757634e+05  1.006674e+06      475763.447444   \n82532  1.659525e+06  8.682628e+04  5.568958e+05       86826.277766   \n82533  3.131612e+05  1.475342e+06  2.062559e+06      313161.202986   \n82534  1.770118e+06  1.607029e+05  4.280999e+05      160702.860764   \n82535  2.833205e+05  1.893727e+06  2.479686e+06       67188.212510   \n\n       dist_to_coast  \n0           0.012888  \n1           1.665273  \n2           0.158815  \n3           0.071436  \n4           0.179351  \n...              ...  \n82531       0.071755  \n82532       0.395219  \n82533       1.307474  \n82534       0.039174  \n82535       0.228827  \n\n[82536 rows x 46 columns]",
      "text/html": "<div>\n<style scoped>\n    .dataframe tbody tr th:only-of-type {\n        vertical-align: middle;\n    }\n\n    .dataframe tbody tr th {\n        vertical-align: top;\n    }\n\n    .dataframe thead th {\n        text-align: right;\n    }\n</style>\n<table border=\"1\" class=\"dataframe\">\n  <thead>\n    <tr style=\"text-align: right;\">\n      <th></th>\n      <th>MedInc</th>\n      <th>HouseAge</th>\n      <th>AveRooms</th>\n      <th>AveBedrms</th>\n      <th>Population</th>\n      <th>AveOccup</th>\n      <th>Latitude</th>\n      <th>Longitude</th>\n      <th>MedHouseVal</th>\n      <th>generated</th>\n      <th>...</th>\n      <th>place_Santa Clara County</th>\n      <th>place_Ventura County</th>\n      <th>place_Yolo County</th>\n      <th>dist_Sac</th>\n      <th>dist_SF</th>\n      <th>dist_SJ</th>\n      <th>dist_LA</th>\n      <th>dist_SD</th>\n      <th>dist_nearest_city</th>\n      <th>dist_to_coast</th>\n    </tr>\n  </thead>\n  <tbody>\n    <tr>\n      <th>0</th>\n      <td>2.3859</td>\n      <td>15.0</td>\n      <td>3.827160</td>\n      <td>1.112100</td>\n      <td>1280.0</td>\n      <td>2.486989</td>\n      <td>34.60</td>\n      <td>-120.12</td>\n      <td>0.980</td>\n      <td>1</td>\n      <td>...</td>\n      <td>0</td>\n      <td>0</td>\n      <td>0</td>\n      <td>1.505644e+06</td>\n      <td>1.343215e+06</td>\n      <td>1.125962e+06</td>\n      <td>5.995613e+05</td>\n      <td>1.130527e+06</td>\n      <td>599561.346601</td>\n      <td>0.012888</td>\n    </tr>\n    <tr>\n      <th>1</th>\n      <td>3.7188</td>\n      <td>17.0</td>\n      <td>6.013373</td>\n      <td>1.054217</td>\n      <td>1504.0</td>\n      <td>3.813084</td>\n      <td>38.69</td>\n      <td>-121.22</td>\n      <td>0.946</td>\n      <td>1</td>\n      <td>...</td>\n      <td>0</td>\n      <td>0</td>\n      <td>0</td>\n      <td>8.854832e+04</td>\n      <td>4.779710e+05</td>\n      <td>5.303822e+05</td>\n      <td>1.904151e+06</td>\n      <td>2.488078e+06</td>\n      <td>88548.323144</td>\n      <td>1.665273</td>\n    </tr>\n    <tr>\n      <th>2</th>\n      <td>4.7750</td>\n      <td>27.0</td>\n      <td>6.535604</td>\n      <td>1.103175</td>\n      <td>1061.0</td>\n      <td>2.464602</td>\n      <td>34.71</td>\n      <td>-120.45</td>\n      <td>1.576</td>\n      <td>1</td>\n      <td>...</td>\n      <td>0</td>\n      <td>0</td>\n      <td>0</td>\n      <td>1.443453e+06</td>\n      <td>1.261031e+06</td>\n      <td>1.047325e+06</td>\n      <td>7.062707e+05</td>\n      <td>1.234280e+06</td>\n      <td>706270.711605</td>\n      <td>0.158815</td>\n    </tr>\n    <tr>\n      <th>3</th>\n      <td>2.4138</td>\n      <td>16.0</td>\n      <td>3.350203</td>\n      <td>0.965432</td>\n      <td>1255.0</td>\n      <td>2.089286</td>\n      <td>32.66</td>\n      <td>-117.09</td>\n      <td>1.336</td>\n      <td>1</td>\n      <td>...</td>\n      <td>0</td>\n      <td>0</td>\n      <td>0</td>\n      <td>2.522266e+06</td>\n      <td>2.451054e+06</td>\n      <td>2.227410e+06</td>\n      <td>6.176880e+05</td>\n      <td>3.045445e+04</td>\n      <td>30454.454611</td>\n      <td>0.071436</td>\n    </tr>\n    <tr>\n      <th>4</th>\n      <td>3.7500</td>\n      <td>52.0</td>\n      <td>4.284404</td>\n      <td>1.069246</td>\n      <td>1793.0</td>\n      <td>1.604790</td>\n      <td>37.80</td>\n      <td>-122.41</td>\n      <td>4.500</td>\n      <td>1</td>\n      <td>...</td>\n      <td>0</td>\n      <td>0</td>\n      <td>0</td>\n      <td>3.862307e+05</td>\n      <td>7.835185e+03</td>\n      <td>2.271009e+05</td>\n      <td>1.839177e+06</td>\n      <td>2.424468e+06</td>\n      <td>7835.184568</td>\n      <td>0.179351</td>\n    </tr>\n    <tr>\n      <th>...</th>\n      <td>...</td>\n      <td>...</td>\n      <td>...</td>\n      <td>...</td>\n      <td>...</td>\n      <td>...</td>\n      <td>...</td>\n      <td>...</td>\n      <td>...</td>\n      <td>...</td>\n      <td>...</td>\n      <td>...</td>\n      <td>...</td>\n      <td>...</td>\n      <td>...</td>\n      <td>...</td>\n      <td>...</td>\n      <td>...</td>\n      <td>...</td>\n      <td>...</td>\n      <td>...</td>\n    </tr>\n    <tr>\n      <th>82531</th>\n      <td>2.2875</td>\n      <td>34.0</td>\n      <td>3.914729</td>\n      <td>1.085271</td>\n      <td>866.0</td>\n      <td>2.071429</td>\n      <td>34.44</td>\n      <td>-119.75</td>\n      <td>NaN</td>\n      <td>1</td>\n      <td>...</td>\n      <td>0</td>\n      <td>0</td>\n      <td>0</td>\n      <td>1.593486e+06</td>\n      <td>1.450374e+06</td>\n      <td>1.230603e+06</td>\n      <td>4.757634e+05</td>\n      <td>1.006674e+06</td>\n      <td>475763.447444</td>\n      <td>0.071755</td>\n    </tr>\n    <tr>\n      <th>82532</th>\n      <td>3.0781</td>\n      <td>33.0</td>\n      <td>4.771971</td>\n      <td>1.038674</td>\n      <td>1628.0</td>\n      <td>2.326848</td>\n      <td>34.09</td>\n      <td>-117.96</td>\n      <td>NaN</td>\n      <td>1</td>\n      <td>...</td>\n      <td>0</td>\n      <td>0</td>\n      <td>0</td>\n      <td>1.938327e+06</td>\n      <td>1.883101e+06</td>\n      <td>1.659525e+06</td>\n      <td>8.682628e+04</td>\n      <td>5.568958e+05</td>\n      <td>86826.277766</td>\n      <td>0.395219</td>\n    </tr>\n    <tr>\n      <th>82533</th>\n      <td>2.6961</td>\n      <td>14.0</td>\n      <td>4.593960</td>\n      <td>1.170380</td>\n      <td>3900.0</td>\n      <td>2.540034</td>\n      <td>37.51</td>\n      <td>-120.83</td>\n      <td>NaN</td>\n      <td>1</td>\n      <td>...</td>\n      <td>0</td>\n      <td>0</td>\n      <td>0</td>\n      <td>4.335840e+05</td>\n      <td>4.697798e+05</td>\n      <td>3.131612e+05</td>\n      <td>1.475342e+06</td>\n      <td>2.062559e+06</td>\n      <td>313161.202986</td>\n      <td>1.307474</td>\n    </tr>\n    <tr>\n      <th>82534</th>\n      <td>7.2315</td>\n      <td>8.0</td>\n      <td>7.508403</td>\n      <td>1.018692</td>\n      <td>1388.0</td>\n      <td>2.601202</td>\n      <td>33.67</td>\n      <td>-117.98</td>\n      <td>NaN</td>\n      <td>1</td>\n      <td>...</td>\n      <td>0</td>\n      <td>0</td>\n      <td>0</td>\n      <td>2.067732e+06</td>\n      <td>1.993824e+06</td>\n      <td>1.770118e+06</td>\n      <td>1.607029e+05</td>\n      <td>4.280999e+05</td>\n      <td>160702.860764</td>\n      <td>0.039174</td>\n    </tr>\n    <tr>\n      <th>82535</th>\n      <td>5.7260</td>\n      <td>30.0</td>\n      <td>6.000000</td>\n      <td>1.000000</td>\n      <td>15.0</td>\n      <td>2.500000</td>\n      <td>37.96</td>\n      <td>-122.47</td>\n      <td>NaN</td>\n      <td>1</td>\n      <td>...</td>\n      <td>0</td>\n      <td>0</td>\n      <td>0</td>\n      <td>3.586724e+05</td>\n      <td>6.718821e+04</td>\n      <td>2.833205e+05</td>\n      <td>1.893727e+06</td>\n      <td>2.479686e+06</td>\n      <td>67188.212510</td>\n      <td>0.228827</td>\n    </tr>\n  </tbody>\n</table>\n<p>82536 rows × 46 columns</p>\n</div>"
     },
     "metadata": {}
    }
   ]
  },
  {
   "cell_type": "code",
   "source": [
    "train_df = df.iloc[:-len(test_df),:]\n",
    "test_df = df.iloc[-len(test_df):,:].drop('MedHouseVal', axis=1).reset_index(drop=True)\n",
    "\n",
    "X = train_df.drop(['MedHouseVal', 'id'], axis=1)\n",
    "y = train_df.MedHouseVal\n",
    "X_test = test_df.drop('id', axis=1)"
   ],
   "metadata": {
    "execution": {
     "iopub.status.busy": "2023-01-08T04:48:14.821817Z",
     "iopub.execute_input": "2023-01-08T04:48:14.822213Z",
     "iopub.status.idle": "2023-01-08T04:48:14.838502Z",
     "shell.execute_reply.started": "2023-01-08T04:48:14.822182Z",
     "shell.execute_reply": "2023-01-08T04:48:14.837586Z"
    },
    "trusted": true
   },
   "execution_count": 24,
   "outputs": []
  },
  {
   "cell_type": "markdown",
   "source": [
    "**Catboost model**"
   ],
   "metadata": {}
  },
  {
   "cell_type": "code",
   "source": [
    "import catboost\n",
    "from sklearn.model_selection import KFold\n",
    "from sklearn.metrics import mean_squared_error\n",
    "\n",
    "n_folds = 9\n",
    "\n",
    "MAX_ITER = 15000\n",
    "PATIENCE = 1000\n",
    "DISPLAY_FREQ = 100\n",
    "\n",
    "eval_predsCB = []\n",
    "predsCB = []\n",
    "\n",
    "k_fold = KFold(n_splits=n_folds, random_state=42, shuffle=True)\n",
    "\n",
    "MODEL_PARAMS = {\n",
    "                'random_seed': 1234,    \n",
    "#                 'learning_rate': 0.1,   # 0.15: 0.5678, 0.12: 0.5685, 0.1: 0.56757, 0.05: 0.57, 0.01, 0.57             \n",
    "                'iterations': MAX_ITER,\n",
    "                'early_stopping_rounds': PATIENCE,\n",
    "#                 'metric_period': DISPLAY_FREQ,\n",
    "                'use_best_model': True,\n",
    "                'eval_metric': 'RMSE',\n",
    "                'verbose': 1000,\n",
    "#                 'task_type': 'GPU'\n",
    "               }\n",
    "\n",
    "\n",
    "for train_index, test_index in k_fold.split(X, y):\n",
    "    X_train, X_valid = X.iloc[train_index], X.iloc[test_index]\n",
    "    y_train, y_valid = y.iloc[train_index], y.iloc[test_index]\n",
    "    \n",
    "    model = catboost.CatBoostRegressor(**MODEL_PARAMS)\n",
    "    \n",
    "    model.fit(X=X_train, y=y_train,\n",
    "          eval_set=[(X_valid, y_valid)],\n",
    "          early_stopping_rounds = PATIENCE,\n",
    "#           metric_period = DISPLAY_FREQ\n",
    "         )\n",
    "    predsCB.append(model.predict(X_test))\n",
    "#     eval_predsCB.append(model.predict(X))\n",
    "#     print(\"RMSE valid = {}\".format(mean_squared_error(y_valid, model.predict(X_valid))))\n",
    "#     print(\"RMSE full = {}\".format(mean_squared_error(y, model.predict(X))))"
   ],
   "metadata": {
    "execution": {
     "iopub.status.busy": "2023-01-08T04:44:21.823297Z",
     "iopub.execute_input": "2023-01-08T04:44:21.823622Z",
     "iopub.status.idle": "2023-01-08T04:44:24.131220Z",
     "shell.execute_reply.started": "2023-01-08T04:44:21.823597Z",
     "shell.execute_reply": "2023-01-08T04:44:24.130103Z"
    },
    "trusted": true
   },
   "execution_count": 19,
   "outputs": [
    {
     "name": "stdout",
     "text": "Learning rate set to 0.018151\n0:\tlearn: 1.1451984\ttest: 1.1298134\tbest: 1.1298134 (0)\ttotal: 10.3ms\tremaining: 2m 34s\n",
     "output_type": "stream"
    },
    {
     "traceback": [
      "\u001B[0;31m---------------------------------------------------------------------------\u001B[0m",
      "\u001B[0;31mKeyboardInterrupt\u001B[0m                         Traceback (most recent call last)",
      "\u001B[0;32m/tmp/ipykernel_27/2184534485.py\u001B[0m in \u001B[0;36m<module>\u001B[0;34m\u001B[0m\n\u001B[1;32m     35\u001B[0m     model.fit(X=X_train, y=y_train,\n\u001B[1;32m     36\u001B[0m           \u001B[0meval_set\u001B[0m\u001B[0;34m=\u001B[0m\u001B[0;34m[\u001B[0m\u001B[0;34m(\u001B[0m\u001B[0mX_valid\u001B[0m\u001B[0;34m,\u001B[0m \u001B[0my_valid\u001B[0m\u001B[0;34m)\u001B[0m\u001B[0;34m]\u001B[0m\u001B[0;34m,\u001B[0m\u001B[0;34m\u001B[0m\u001B[0;34m\u001B[0m\u001B[0m\n\u001B[0;32m---> 37\u001B[0;31m           \u001B[0mearly_stopping_rounds\u001B[0m \u001B[0;34m=\u001B[0m \u001B[0mPATIENCE\u001B[0m\u001B[0;34m,\u001B[0m\u001B[0;34m\u001B[0m\u001B[0;34m\u001B[0m\u001B[0m\n\u001B[0m\u001B[1;32m     38\u001B[0m \u001B[0;31m#           metric_period = DISPLAY_FREQ\u001B[0m\u001B[0;34m\u001B[0m\u001B[0;34m\u001B[0m\u001B[0;34m\u001B[0m\u001B[0m\n\u001B[1;32m     39\u001B[0m          )\n",
      "\u001B[0;32m/opt/conda/lib/python3.7/site-packages/catboost/core.py\u001B[0m in \u001B[0;36mfit\u001B[0;34m(self, X, y, cat_features, text_features, embedding_features, sample_weight, baseline, use_best_model, eval_set, verbose, logging_level, plot, plot_file, column_description, verbose_eval, metric_period, silent, early_stopping_rounds, save_snapshot, snapshot_file, snapshot_interval, init_model, callbacks, log_cout, log_cerr)\u001B[0m\n\u001B[1;32m   5731\u001B[0m                          \u001B[0muse_best_model\u001B[0m\u001B[0;34m,\u001B[0m \u001B[0meval_set\u001B[0m\u001B[0;34m,\u001B[0m \u001B[0mverbose\u001B[0m\u001B[0;34m,\u001B[0m \u001B[0mlogging_level\u001B[0m\u001B[0;34m,\u001B[0m \u001B[0mplot\u001B[0m\u001B[0;34m,\u001B[0m \u001B[0mplot_file\u001B[0m\u001B[0;34m,\u001B[0m \u001B[0mcolumn_description\u001B[0m\u001B[0;34m,\u001B[0m\u001B[0;34m\u001B[0m\u001B[0;34m\u001B[0m\u001B[0m\n\u001B[1;32m   5732\u001B[0m                          \u001B[0mverbose_eval\u001B[0m\u001B[0;34m,\u001B[0m \u001B[0mmetric_period\u001B[0m\u001B[0;34m,\u001B[0m \u001B[0msilent\u001B[0m\u001B[0;34m,\u001B[0m \u001B[0mearly_stopping_rounds\u001B[0m\u001B[0;34m,\u001B[0m\u001B[0;34m\u001B[0m\u001B[0;34m\u001B[0m\u001B[0m\n\u001B[0;32m-> 5733\u001B[0;31m                          save_snapshot, snapshot_file, snapshot_interval, init_model, callbacks, log_cout, log_cerr)\n\u001B[0m\u001B[1;32m   5734\u001B[0m \u001B[0;34m\u001B[0m\u001B[0m\n\u001B[1;32m   5735\u001B[0m     \u001B[0;32mdef\u001B[0m \u001B[0mpredict\u001B[0m\u001B[0;34m(\u001B[0m\u001B[0mself\u001B[0m\u001B[0;34m,\u001B[0m \u001B[0mdata\u001B[0m\u001B[0;34m,\u001B[0m \u001B[0mprediction_type\u001B[0m\u001B[0;34m=\u001B[0m\u001B[0;32mNone\u001B[0m\u001B[0;34m,\u001B[0m \u001B[0mntree_start\u001B[0m\u001B[0;34m=\u001B[0m\u001B[0;36m0\u001B[0m\u001B[0;34m,\u001B[0m \u001B[0mntree_end\u001B[0m\u001B[0;34m=\u001B[0m\u001B[0;36m0\u001B[0m\u001B[0;34m,\u001B[0m \u001B[0mthread_count\u001B[0m\u001B[0;34m=\u001B[0m\u001B[0;34m-\u001B[0m\u001B[0;36m1\u001B[0m\u001B[0;34m,\u001B[0m \u001B[0mverbose\u001B[0m\u001B[0;34m=\u001B[0m\u001B[0;32mNone\u001B[0m\u001B[0;34m,\u001B[0m \u001B[0mtask_type\u001B[0m\u001B[0;34m=\u001B[0m\u001B[0;34m\"CPU\"\u001B[0m\u001B[0;34m)\u001B[0m\u001B[0;34m:\u001B[0m\u001B[0;34m\u001B[0m\u001B[0;34m\u001B[0m\u001B[0m\n",
      "\u001B[0;32m/opt/conda/lib/python3.7/site-packages/catboost/core.py\u001B[0m in \u001B[0;36m_fit\u001B[0;34m(self, X, y, cat_features, text_features, embedding_features, pairs, sample_weight, group_id, group_weight, subgroup_id, pairs_weight, baseline, use_best_model, eval_set, verbose, logging_level, plot, plot_file, column_description, verbose_eval, metric_period, silent, early_stopping_rounds, save_snapshot, snapshot_file, snapshot_interval, init_model, callbacks, log_cout, log_cerr)\u001B[0m\n\u001B[1;32m   2358\u001B[0m                 \u001B[0mparams\u001B[0m\u001B[0;34m,\u001B[0m\u001B[0;34m\u001B[0m\u001B[0;34m\u001B[0m\u001B[0m\n\u001B[1;32m   2359\u001B[0m                 \u001B[0mallow_clear_pool\u001B[0m\u001B[0;34m,\u001B[0m\u001B[0;34m\u001B[0m\u001B[0;34m\u001B[0m\u001B[0m\n\u001B[0;32m-> 2360\u001B[0;31m                 \u001B[0mtrain_params\u001B[0m\u001B[0;34m[\u001B[0m\u001B[0;34m\"init_model\"\u001B[0m\u001B[0;34m]\u001B[0m\u001B[0;34m\u001B[0m\u001B[0;34m\u001B[0m\u001B[0m\n\u001B[0m\u001B[1;32m   2361\u001B[0m             )\n\u001B[1;32m   2362\u001B[0m \u001B[0;34m\u001B[0m\u001B[0m\n",
      "\u001B[0;32m/opt/conda/lib/python3.7/site-packages/catboost/core.py\u001B[0m in \u001B[0;36m_train\u001B[0;34m(self, train_pool, test_pool, params, allow_clear_pool, init_model)\u001B[0m\n\u001B[1;32m   1757\u001B[0m \u001B[0;34m\u001B[0m\u001B[0m\n\u001B[1;32m   1758\u001B[0m     \u001B[0;32mdef\u001B[0m \u001B[0m_train\u001B[0m\u001B[0;34m(\u001B[0m\u001B[0mself\u001B[0m\u001B[0;34m,\u001B[0m \u001B[0mtrain_pool\u001B[0m\u001B[0;34m,\u001B[0m \u001B[0mtest_pool\u001B[0m\u001B[0;34m,\u001B[0m \u001B[0mparams\u001B[0m\u001B[0;34m,\u001B[0m \u001B[0mallow_clear_pool\u001B[0m\u001B[0;34m,\u001B[0m \u001B[0minit_model\u001B[0m\u001B[0;34m)\u001B[0m\u001B[0;34m:\u001B[0m\u001B[0;34m\u001B[0m\u001B[0;34m\u001B[0m\u001B[0m\n\u001B[0;32m-> 1759\u001B[0;31m         \u001B[0mself\u001B[0m\u001B[0;34m.\u001B[0m\u001B[0m_object\u001B[0m\u001B[0;34m.\u001B[0m\u001B[0m_train\u001B[0m\u001B[0;34m(\u001B[0m\u001B[0mtrain_pool\u001B[0m\u001B[0;34m,\u001B[0m \u001B[0mtest_pool\u001B[0m\u001B[0;34m,\u001B[0m \u001B[0mparams\u001B[0m\u001B[0;34m,\u001B[0m \u001B[0mallow_clear_pool\u001B[0m\u001B[0;34m,\u001B[0m \u001B[0minit_model\u001B[0m\u001B[0;34m.\u001B[0m\u001B[0m_object\u001B[0m \u001B[0;32mif\u001B[0m \u001B[0minit_model\u001B[0m \u001B[0;32melse\u001B[0m \u001B[0;32mNone\u001B[0m\u001B[0;34m)\u001B[0m\u001B[0;34m\u001B[0m\u001B[0;34m\u001B[0m\u001B[0m\n\u001B[0m\u001B[1;32m   1760\u001B[0m         \u001B[0mself\u001B[0m\u001B[0;34m.\u001B[0m\u001B[0m_set_trained_model_attributes\u001B[0m\u001B[0;34m(\u001B[0m\u001B[0;34m)\u001B[0m\u001B[0;34m\u001B[0m\u001B[0;34m\u001B[0m\u001B[0m\n\u001B[1;32m   1761\u001B[0m \u001B[0;34m\u001B[0m\u001B[0m\n",
      "\u001B[0;32m_catboost.pyx\u001B[0m in \u001B[0;36m_catboost._CatBoost._train\u001B[0;34m()\u001B[0m\n",
      "\u001B[0;32m_catboost.pyx\u001B[0m in \u001B[0;36m_catboost._CatBoost._train\u001B[0;34m()\u001B[0m\n",
      "\u001B[0;31mKeyboardInterrupt\u001B[0m: "
     ],
     "ename": "KeyboardInterrupt",
     "evalue": "",
     "output_type": "error"
    }
   ]
  },
  {
   "cell_type": "markdown",
   "source": [
    "**XGBoost model**"
   ],
   "metadata": {}
  },
  {
   "cell_type": "code",
   "source": [
    "from xgboost import XGBRegressor\n",
    "\n",
    "# n_folds = 20\n",
    "k_fold = KFold(n_splits=n_folds, random_state=42, shuffle=True)\n",
    "\n",
    "eval_predsXB = []\n",
    "predsXB = []\n",
    "\n",
    "PATIENCE = 200\n",
    "\n",
    "MODEL_PARAMS = {       'n_estimators': 500, #1000, 5000\n",
    "#                        'learning_rate': 0.05,\n",
    "                       'max_depth': 4, # 3\n",
    "                       'colsample_bytree': 0.9, # 0.95\n",
    "                       'subsample': 1,\n",
    "                       'reg_lambda': 20,\n",
    "                       'early_stopping_rounds': PATIENCE,\n",
    "#                        'tree_method': 'gpu_hist',\n",
    "                       'seed': 1\n",
    "}\n",
    "\n",
    "for train_index, test_index in k_fold.split(X, y):\n",
    "    X_train, X_valid = X.iloc[train_index], X.iloc[test_index]\n",
    "    y_train, y_valid = y.iloc[train_index], y.iloc[test_index]\n",
    "    \n",
    "    model = XGBRegressor(**MODEL_PARAMS)\n",
    "    \n",
    "    model.fit(X=X_train, y=y_train,\n",
    "          eval_set=[(X_valid, y_valid)],\n",
    "#           early_stopping_rounds = PATIENCE,\n",
    "          verbose = 100\n",
    "         )\n",
    "    predsXB.append(model.predict(X_test))\n",
    "#     eval_predsXB.append(model.predict(X))"
   ],
   "metadata": {
    "execution": {
     "iopub.status.busy": "2023-01-08T04:48:26.911561Z",
     "iopub.execute_input": "2023-01-08T04:48:26.911917Z",
     "iopub.status.idle": "2023-01-08T04:49:30.648242Z",
     "shell.execute_reply.started": "2023-01-08T04:48:26.911890Z",
     "shell.execute_reply": "2023-01-08T04:49:30.646893Z"
    },
    "trusted": true
   },
   "execution_count": 26,
   "outputs": [
    {
     "name": "stdout",
     "text": "[0]\tvalidation_0-rmse:1.45258\n[100]\tvalidation_0-rmse:0.51737\n[200]\tvalidation_0-rmse:0.51190\n[300]\tvalidation_0-rmse:0.51055\n[400]\tvalidation_0-rmse:0.51053\n[499]\tvalidation_0-rmse:0.51124\n[0]\tvalidation_0-rmse:1.45631\n[100]\tvalidation_0-rmse:0.51423\n[200]\tvalidation_0-rmse:0.50908\n[300]\tvalidation_0-rmse:0.50608\n[400]\tvalidation_0-rmse:0.50450\n[499]\tvalidation_0-rmse:0.50379\n[0]\tvalidation_0-rmse:1.46337\n[100]\tvalidation_0-rmse:0.54093\n",
     "output_type": "stream"
    },
    {
     "traceback": [
      "\u001B[0;31m---------------------------------------------------------------------------\u001B[0m",
      "\u001B[0;31mKeyboardInterrupt\u001B[0m                         Traceback (most recent call last)",
      "\u001B[0;32m/tmp/ipykernel_27/1307678178.py\u001B[0m in \u001B[0;36m<module>\u001B[0;34m\u001B[0m\n\u001B[1;32m     29\u001B[0m           \u001B[0meval_set\u001B[0m\u001B[0;34m=\u001B[0m\u001B[0;34m[\u001B[0m\u001B[0;34m(\u001B[0m\u001B[0mX_valid\u001B[0m\u001B[0;34m,\u001B[0m \u001B[0my_valid\u001B[0m\u001B[0;34m)\u001B[0m\u001B[0;34m]\u001B[0m\u001B[0;34m,\u001B[0m\u001B[0;34m\u001B[0m\u001B[0;34m\u001B[0m\u001B[0m\n\u001B[1;32m     30\u001B[0m \u001B[0;31m#           early_stopping_rounds = PATIENCE,\u001B[0m\u001B[0;34m\u001B[0m\u001B[0;34m\u001B[0m\u001B[0;34m\u001B[0m\u001B[0m\n\u001B[0;32m---> 31\u001B[0;31m           \u001B[0mverbose\u001B[0m \u001B[0;34m=\u001B[0m \u001B[0;36m100\u001B[0m\u001B[0;34m\u001B[0m\u001B[0;34m\u001B[0m\u001B[0m\n\u001B[0m\u001B[1;32m     32\u001B[0m          )\n\u001B[1;32m     33\u001B[0m     \u001B[0mpredsXB\u001B[0m\u001B[0;34m.\u001B[0m\u001B[0mappend\u001B[0m\u001B[0;34m(\u001B[0m\u001B[0mmodel\u001B[0m\u001B[0;34m.\u001B[0m\u001B[0mpredict\u001B[0m\u001B[0;34m(\u001B[0m\u001B[0mX_test\u001B[0m\u001B[0;34m)\u001B[0m\u001B[0;34m)\u001B[0m\u001B[0;34m\u001B[0m\u001B[0;34m\u001B[0m\u001B[0m\n",
      "\u001B[0;32m/opt/conda/lib/python3.7/site-packages/xgboost/core.py\u001B[0m in \u001B[0;36minner_f\u001B[0;34m(*args, **kwargs)\u001B[0m\n\u001B[1;32m    573\u001B[0m         \u001B[0;32mfor\u001B[0m \u001B[0mk\u001B[0m\u001B[0;34m,\u001B[0m \u001B[0marg\u001B[0m \u001B[0;32min\u001B[0m \u001B[0mzip\u001B[0m\u001B[0;34m(\u001B[0m\u001B[0msig\u001B[0m\u001B[0;34m.\u001B[0m\u001B[0mparameters\u001B[0m\u001B[0;34m,\u001B[0m \u001B[0margs\u001B[0m\u001B[0;34m)\u001B[0m\u001B[0;34m:\u001B[0m\u001B[0;34m\u001B[0m\u001B[0;34m\u001B[0m\u001B[0m\n\u001B[1;32m    574\u001B[0m             \u001B[0mkwargs\u001B[0m\u001B[0;34m[\u001B[0m\u001B[0mk\u001B[0m\u001B[0;34m]\u001B[0m \u001B[0;34m=\u001B[0m \u001B[0marg\u001B[0m\u001B[0;34m\u001B[0m\u001B[0;34m\u001B[0m\u001B[0m\n\u001B[0;32m--> 575\u001B[0;31m         \u001B[0;32mreturn\u001B[0m \u001B[0mf\u001B[0m\u001B[0;34m(\u001B[0m\u001B[0;34m**\u001B[0m\u001B[0mkwargs\u001B[0m\u001B[0;34m)\u001B[0m\u001B[0;34m\u001B[0m\u001B[0;34m\u001B[0m\u001B[0m\n\u001B[0m\u001B[1;32m    576\u001B[0m \u001B[0;34m\u001B[0m\u001B[0m\n\u001B[1;32m    577\u001B[0m     \u001B[0;32mreturn\u001B[0m \u001B[0minner_f\u001B[0m\u001B[0;34m\u001B[0m\u001B[0;34m\u001B[0m\u001B[0m\n",
      "\u001B[0;32m/opt/conda/lib/python3.7/site-packages/xgboost/sklearn.py\u001B[0m in \u001B[0;36mfit\u001B[0;34m(self, X, y, sample_weight, base_margin, eval_set, eval_metric, early_stopping_rounds, verbose, xgb_model, sample_weight_eval_set, base_margin_eval_set, feature_weights, callbacks)\u001B[0m\n\u001B[1;32m    970\u001B[0m             \u001B[0mverbose_eval\u001B[0m\u001B[0;34m=\u001B[0m\u001B[0mverbose\u001B[0m\u001B[0;34m,\u001B[0m\u001B[0;34m\u001B[0m\u001B[0;34m\u001B[0m\u001B[0m\n\u001B[1;32m    971\u001B[0m             \u001B[0mxgb_model\u001B[0m\u001B[0;34m=\u001B[0m\u001B[0mmodel\u001B[0m\u001B[0;34m,\u001B[0m\u001B[0;34m\u001B[0m\u001B[0;34m\u001B[0m\u001B[0m\n\u001B[0;32m--> 972\u001B[0;31m             \u001B[0mcallbacks\u001B[0m\u001B[0;34m=\u001B[0m\u001B[0mcallbacks\u001B[0m\u001B[0;34m,\u001B[0m\u001B[0;34m\u001B[0m\u001B[0;34m\u001B[0m\u001B[0m\n\u001B[0m\u001B[1;32m    973\u001B[0m         )\n\u001B[1;32m    974\u001B[0m \u001B[0;34m\u001B[0m\u001B[0m\n",
      "\u001B[0;32m/opt/conda/lib/python3.7/site-packages/xgboost/core.py\u001B[0m in \u001B[0;36minner_f\u001B[0;34m(*args, **kwargs)\u001B[0m\n\u001B[1;32m    573\u001B[0m         \u001B[0;32mfor\u001B[0m \u001B[0mk\u001B[0m\u001B[0;34m,\u001B[0m \u001B[0marg\u001B[0m \u001B[0;32min\u001B[0m \u001B[0mzip\u001B[0m\u001B[0;34m(\u001B[0m\u001B[0msig\u001B[0m\u001B[0;34m.\u001B[0m\u001B[0mparameters\u001B[0m\u001B[0;34m,\u001B[0m \u001B[0margs\u001B[0m\u001B[0;34m)\u001B[0m\u001B[0;34m:\u001B[0m\u001B[0;34m\u001B[0m\u001B[0;34m\u001B[0m\u001B[0m\n\u001B[1;32m    574\u001B[0m             \u001B[0mkwargs\u001B[0m\u001B[0;34m[\u001B[0m\u001B[0mk\u001B[0m\u001B[0;34m]\u001B[0m \u001B[0;34m=\u001B[0m \u001B[0marg\u001B[0m\u001B[0;34m\u001B[0m\u001B[0;34m\u001B[0m\u001B[0m\n\u001B[0;32m--> 575\u001B[0;31m         \u001B[0;32mreturn\u001B[0m \u001B[0mf\u001B[0m\u001B[0;34m(\u001B[0m\u001B[0;34m**\u001B[0m\u001B[0mkwargs\u001B[0m\u001B[0;34m)\u001B[0m\u001B[0;34m\u001B[0m\u001B[0;34m\u001B[0m\u001B[0m\n\u001B[0m\u001B[1;32m    576\u001B[0m \u001B[0;34m\u001B[0m\u001B[0m\n\u001B[1;32m    577\u001B[0m     \u001B[0;32mreturn\u001B[0m \u001B[0minner_f\u001B[0m\u001B[0;34m\u001B[0m\u001B[0;34m\u001B[0m\u001B[0m\n",
      "\u001B[0;32m/opt/conda/lib/python3.7/site-packages/xgboost/training.py\u001B[0m in \u001B[0;36mtrain\u001B[0;34m(params, dtrain, num_boost_round, evals, obj, feval, maximize, early_stopping_rounds, evals_result, verbose_eval, xgb_model, callbacks, custom_metric)\u001B[0m\n\u001B[1;32m    179\u001B[0m         \u001B[0;32mif\u001B[0m \u001B[0mcb_container\u001B[0m\u001B[0;34m.\u001B[0m\u001B[0mbefore_iteration\u001B[0m\u001B[0;34m(\u001B[0m\u001B[0mbst\u001B[0m\u001B[0;34m,\u001B[0m \u001B[0mi\u001B[0m\u001B[0;34m,\u001B[0m \u001B[0mdtrain\u001B[0m\u001B[0;34m,\u001B[0m \u001B[0mevals\u001B[0m\u001B[0;34m)\u001B[0m\u001B[0;34m:\u001B[0m\u001B[0;34m\u001B[0m\u001B[0;34m\u001B[0m\u001B[0m\n\u001B[1;32m    180\u001B[0m             \u001B[0;32mbreak\u001B[0m\u001B[0;34m\u001B[0m\u001B[0;34m\u001B[0m\u001B[0m\n\u001B[0;32m--> 181\u001B[0;31m         \u001B[0mbst\u001B[0m\u001B[0;34m.\u001B[0m\u001B[0mupdate\u001B[0m\u001B[0;34m(\u001B[0m\u001B[0mdtrain\u001B[0m\u001B[0;34m,\u001B[0m \u001B[0mi\u001B[0m\u001B[0;34m,\u001B[0m \u001B[0mobj\u001B[0m\u001B[0;34m)\u001B[0m\u001B[0;34m\u001B[0m\u001B[0;34m\u001B[0m\u001B[0m\n\u001B[0m\u001B[1;32m    182\u001B[0m         \u001B[0;32mif\u001B[0m \u001B[0mcb_container\u001B[0m\u001B[0;34m.\u001B[0m\u001B[0mafter_iteration\u001B[0m\u001B[0;34m(\u001B[0m\u001B[0mbst\u001B[0m\u001B[0;34m,\u001B[0m \u001B[0mi\u001B[0m\u001B[0;34m,\u001B[0m \u001B[0mdtrain\u001B[0m\u001B[0;34m,\u001B[0m \u001B[0mevals\u001B[0m\u001B[0;34m)\u001B[0m\u001B[0;34m:\u001B[0m\u001B[0;34m\u001B[0m\u001B[0;34m\u001B[0m\u001B[0m\n\u001B[1;32m    183\u001B[0m             \u001B[0;32mbreak\u001B[0m\u001B[0;34m\u001B[0m\u001B[0;34m\u001B[0m\u001B[0m\n",
      "\u001B[0;32m/opt/conda/lib/python3.7/site-packages/xgboost/core.py\u001B[0m in \u001B[0;36mupdate\u001B[0;34m(self, dtrain, iteration, fobj)\u001B[0m\n\u001B[1;32m   1778\u001B[0m             _check_call(_LIB.XGBoosterUpdateOneIter(self.handle,\n\u001B[1;32m   1779\u001B[0m                                                     \u001B[0mctypes\u001B[0m\u001B[0;34m.\u001B[0m\u001B[0mc_int\u001B[0m\u001B[0;34m(\u001B[0m\u001B[0miteration\u001B[0m\u001B[0;34m)\u001B[0m\u001B[0;34m,\u001B[0m\u001B[0;34m\u001B[0m\u001B[0;34m\u001B[0m\u001B[0m\n\u001B[0;32m-> 1780\u001B[0;31m                                                     dtrain.handle))\n\u001B[0m\u001B[1;32m   1781\u001B[0m         \u001B[0;32melse\u001B[0m\u001B[0;34m:\u001B[0m\u001B[0;34m\u001B[0m\u001B[0;34m\u001B[0m\u001B[0m\n\u001B[1;32m   1782\u001B[0m             \u001B[0mpred\u001B[0m \u001B[0;34m=\u001B[0m \u001B[0mself\u001B[0m\u001B[0;34m.\u001B[0m\u001B[0mpredict\u001B[0m\u001B[0;34m(\u001B[0m\u001B[0mdtrain\u001B[0m\u001B[0;34m,\u001B[0m \u001B[0moutput_margin\u001B[0m\u001B[0;34m=\u001B[0m\u001B[0;32mTrue\u001B[0m\u001B[0;34m,\u001B[0m \u001B[0mtraining\u001B[0m\u001B[0;34m=\u001B[0m\u001B[0;32mTrue\u001B[0m\u001B[0;34m)\u001B[0m\u001B[0;34m\u001B[0m\u001B[0;34m\u001B[0m\u001B[0m\n",
      "\u001B[0;31mKeyboardInterrupt\u001B[0m: "
     ],
     "ename": "KeyboardInterrupt",
     "evalue": "",
     "output_type": "error"
    }
   ]
  },
  {
   "cell_type": "markdown",
   "source": [
    "**LGBM model**"
   ],
   "metadata": {}
  },
  {
   "cell_type": "code",
   "source": [
    "import lightgbm as lgbm\n",
    "from lightgbm.sklearn import LGBMRegressor\n",
    "\n",
    "# n_folds = 20\n",
    "k_fold = KFold(n_splits=n_folds, random_state=42, shuffle=True)\n",
    "\n",
    "eval_predsLB = []\n",
    "predsLB = []\n",
    "\n",
    "MODEL_PARAMS = {\n",
    "                       'learning_rate': 0.01,\n",
    "                       'max_depth': 9,\n",
    "                       'num_leaves': 90,\n",
    "                       'colsample_bytree': 0.8,\n",
    "                       'subsample': 0.9,\n",
    "                       'subsample_freq': 5,\n",
    "                       'min_child_samples': 36,\n",
    "                       'reg_lambda': 28,\n",
    "                       'n_estimators': 20000,\n",
    "                       'metric': 'rmse',\n",
    "                       'random_state': 1\n",
    "}\n",
    "\n",
    "callbacks = [lgbm.early_stopping(30, verbose=1), lgbm.log_evaluation(period=0)]\n",
    "\n",
    "for train_index, test_index in k_fold.split(X, y):\n",
    "    X_train, X_valid = X.iloc[train_index], X.iloc[test_index]\n",
    "    y_train, y_valid = y.iloc[train_index], y.iloc[test_index]\n",
    "    \n",
    "    model = lgbm.LGBMRegressor(**MODEL_PARAMS)\n",
    "    \n",
    "    model.fit(X=X_train, y=y_train,\n",
    "          eval_set=[(X_valid, y_valid)],\n",
    "#           early_stopping_rounds = PATIENCE,\n",
    "          callbacks=callbacks\n",
    "         )\n",
    "    predsLB.append(model.predict(X_test))\n",
    "#     eval_predsLB.append(model.predict(X))"
   ],
   "metadata": {
    "execution": {
     "iopub.status.busy": "2023-01-08T04:49:35.018121Z",
     "iopub.execute_input": "2023-01-08T04:49:35.018463Z",
     "iopub.status.idle": "2023-01-08T04:51:18.047733Z",
     "shell.execute_reply.started": "2023-01-08T04:49:35.018436Z",
     "shell.execute_reply": "2023-01-08T04:51:18.046329Z"
    },
    "trusted": true
   },
   "execution_count": 27,
   "outputs": [
    {
     "name": "stdout",
     "text": "Training until validation scores don't improve for 30 rounds\nEarly stopping, best iteration is:\n[1844]\tvalid_0's rmse: 0.497158\nEarly stopping, best iteration is:\n[2029]\tvalid_0's rmse: 0.494145\n",
     "output_type": "stream"
    },
    {
     "traceback": [
      "\u001B[0;31m---------------------------------------------------------------------------\u001B[0m",
      "\u001B[0;31mKeyboardInterrupt\u001B[0m                         Traceback (most recent call last)",
      "\u001B[0;32m/tmp/ipykernel_27/2489354084.py\u001B[0m in \u001B[0;36m<module>\u001B[0;34m\u001B[0m\n\u001B[1;32m     33\u001B[0m           \u001B[0meval_set\u001B[0m\u001B[0;34m=\u001B[0m\u001B[0;34m[\u001B[0m\u001B[0;34m(\u001B[0m\u001B[0mX_valid\u001B[0m\u001B[0;34m,\u001B[0m \u001B[0my_valid\u001B[0m\u001B[0;34m)\u001B[0m\u001B[0;34m]\u001B[0m\u001B[0;34m,\u001B[0m\u001B[0;34m\u001B[0m\u001B[0;34m\u001B[0m\u001B[0m\n\u001B[1;32m     34\u001B[0m \u001B[0;31m#           early_stopping_rounds = PATIENCE,\u001B[0m\u001B[0;34m\u001B[0m\u001B[0;34m\u001B[0m\u001B[0;34m\u001B[0m\u001B[0m\n\u001B[0;32m---> 35\u001B[0;31m           \u001B[0mcallbacks\u001B[0m\u001B[0;34m=\u001B[0m\u001B[0mcallbacks\u001B[0m\u001B[0;34m\u001B[0m\u001B[0;34m\u001B[0m\u001B[0m\n\u001B[0m\u001B[1;32m     36\u001B[0m          )\n\u001B[1;32m     37\u001B[0m     \u001B[0mpredsLB\u001B[0m\u001B[0;34m.\u001B[0m\u001B[0mappend\u001B[0m\u001B[0;34m(\u001B[0m\u001B[0mmodel\u001B[0m\u001B[0;34m.\u001B[0m\u001B[0mpredict\u001B[0m\u001B[0;34m(\u001B[0m\u001B[0mX_test\u001B[0m\u001B[0;34m)\u001B[0m\u001B[0;34m)\u001B[0m\u001B[0;34m\u001B[0m\u001B[0;34m\u001B[0m\u001B[0m\n",
      "\u001B[0;32m/opt/conda/lib/python3.7/site-packages/lightgbm/sklearn.py\u001B[0m in \u001B[0;36mfit\u001B[0;34m(self, X, y, sample_weight, init_score, eval_set, eval_names, eval_sample_weight, eval_init_score, eval_metric, early_stopping_rounds, verbose, feature_name, categorical_feature, callbacks, init_model)\u001B[0m\n\u001B[1;32m    897\u001B[0m                     \u001B[0meval_init_score\u001B[0m\u001B[0;34m=\u001B[0m\u001B[0meval_init_score\u001B[0m\u001B[0;34m,\u001B[0m \u001B[0meval_metric\u001B[0m\u001B[0;34m=\u001B[0m\u001B[0meval_metric\u001B[0m\u001B[0;34m,\u001B[0m\u001B[0;34m\u001B[0m\u001B[0;34m\u001B[0m\u001B[0m\n\u001B[1;32m    898\u001B[0m                     \u001B[0mearly_stopping_rounds\u001B[0m\u001B[0;34m=\u001B[0m\u001B[0mearly_stopping_rounds\u001B[0m\u001B[0;34m,\u001B[0m \u001B[0mverbose\u001B[0m\u001B[0;34m=\u001B[0m\u001B[0mverbose\u001B[0m\u001B[0;34m,\u001B[0m \u001B[0mfeature_name\u001B[0m\u001B[0;34m=\u001B[0m\u001B[0mfeature_name\u001B[0m\u001B[0;34m,\u001B[0m\u001B[0;34m\u001B[0m\u001B[0;34m\u001B[0m\u001B[0m\n\u001B[0;32m--> 899\u001B[0;31m                     categorical_feature=categorical_feature, callbacks=callbacks, init_model=init_model)\n\u001B[0m\u001B[1;32m    900\u001B[0m         \u001B[0;32mreturn\u001B[0m \u001B[0mself\u001B[0m\u001B[0;34m\u001B[0m\u001B[0;34m\u001B[0m\u001B[0m\n\u001B[1;32m    901\u001B[0m \u001B[0;34m\u001B[0m\u001B[0m\n",
      "\u001B[0;32m/opt/conda/lib/python3.7/site-packages/lightgbm/sklearn.py\u001B[0m in \u001B[0;36mfit\u001B[0;34m(self, X, y, sample_weight, init_score, group, eval_set, eval_names, eval_sample_weight, eval_class_weight, eval_init_score, eval_group, eval_metric, early_stopping_rounds, verbose, feature_name, categorical_feature, callbacks, init_model)\u001B[0m\n\u001B[1;32m    756\u001B[0m             \u001B[0minit_model\u001B[0m\u001B[0;34m=\u001B[0m\u001B[0minit_model\u001B[0m\u001B[0;34m,\u001B[0m\u001B[0;34m\u001B[0m\u001B[0;34m\u001B[0m\u001B[0m\n\u001B[1;32m    757\u001B[0m             \u001B[0mfeature_name\u001B[0m\u001B[0;34m=\u001B[0m\u001B[0mfeature_name\u001B[0m\u001B[0;34m,\u001B[0m\u001B[0;34m\u001B[0m\u001B[0;34m\u001B[0m\u001B[0m\n\u001B[0;32m--> 758\u001B[0;31m             \u001B[0mcallbacks\u001B[0m\u001B[0;34m=\u001B[0m\u001B[0mcallbacks\u001B[0m\u001B[0;34m\u001B[0m\u001B[0;34m\u001B[0m\u001B[0m\n\u001B[0m\u001B[1;32m    759\u001B[0m         )\n\u001B[1;32m    760\u001B[0m \u001B[0;34m\u001B[0m\u001B[0m\n",
      "\u001B[0;32m/opt/conda/lib/python3.7/site-packages/lightgbm/engine.py\u001B[0m in \u001B[0;36mtrain\u001B[0;34m(params, train_set, num_boost_round, valid_sets, valid_names, fobj, feval, init_model, feature_name, categorical_feature, early_stopping_rounds, evals_result, verbose_eval, learning_rates, keep_training_booster, callbacks)\u001B[0m\n\u001B[1;32m    290\u001B[0m                                     evaluation_result_list=None))\n\u001B[1;32m    291\u001B[0m \u001B[0;34m\u001B[0m\u001B[0m\n\u001B[0;32m--> 292\u001B[0;31m         \u001B[0mbooster\u001B[0m\u001B[0;34m.\u001B[0m\u001B[0mupdate\u001B[0m\u001B[0;34m(\u001B[0m\u001B[0mfobj\u001B[0m\u001B[0;34m=\u001B[0m\u001B[0mfobj\u001B[0m\u001B[0;34m)\u001B[0m\u001B[0;34m\u001B[0m\u001B[0;34m\u001B[0m\u001B[0m\n\u001B[0m\u001B[1;32m    293\u001B[0m \u001B[0;34m\u001B[0m\u001B[0m\n\u001B[1;32m    294\u001B[0m         \u001B[0mevaluation_result_list\u001B[0m \u001B[0;34m=\u001B[0m \u001B[0;34m[\u001B[0m\u001B[0;34m]\u001B[0m\u001B[0;34m\u001B[0m\u001B[0;34m\u001B[0m\u001B[0m\n",
      "\u001B[0;32m/opt/conda/lib/python3.7/site-packages/lightgbm/basic.py\u001B[0m in \u001B[0;36mupdate\u001B[0;34m(self, train_set, fobj)\u001B[0m\n\u001B[1;32m   3021\u001B[0m             _safe_call(_LIB.LGBM_BoosterUpdateOneIter(\n\u001B[1;32m   3022\u001B[0m                 \u001B[0mself\u001B[0m\u001B[0;34m.\u001B[0m\u001B[0mhandle\u001B[0m\u001B[0;34m,\u001B[0m\u001B[0;34m\u001B[0m\u001B[0;34m\u001B[0m\u001B[0m\n\u001B[0;32m-> 3023\u001B[0;31m                 ctypes.byref(is_finished)))\n\u001B[0m\u001B[1;32m   3024\u001B[0m             \u001B[0mself\u001B[0m\u001B[0;34m.\u001B[0m\u001B[0m__is_predicted_cur_iter\u001B[0m \u001B[0;34m=\u001B[0m \u001B[0;34m[\u001B[0m\u001B[0;32mFalse\u001B[0m \u001B[0;32mfor\u001B[0m \u001B[0m_\u001B[0m \u001B[0;32min\u001B[0m \u001B[0mrange\u001B[0m\u001B[0;34m(\u001B[0m\u001B[0mself\u001B[0m\u001B[0;34m.\u001B[0m\u001B[0m__num_dataset\u001B[0m\u001B[0;34m)\u001B[0m\u001B[0;34m]\u001B[0m\u001B[0;34m\u001B[0m\u001B[0;34m\u001B[0m\u001B[0m\n\u001B[1;32m   3025\u001B[0m             \u001B[0;32mreturn\u001B[0m \u001B[0mis_finished\u001B[0m\u001B[0;34m.\u001B[0m\u001B[0mvalue\u001B[0m \u001B[0;34m==\u001B[0m \u001B[0;36m1\u001B[0m\u001B[0;34m\u001B[0m\u001B[0;34m\u001B[0m\u001B[0m\n",
      "\u001B[0;31mKeyboardInterrupt\u001B[0m: "
     ],
     "ename": "KeyboardInterrupt",
     "evalue": "",
     "output_type": "error"
    }
   ]
  },
  {
   "cell_type": "code",
   "source": [
    "# mean_squared_error(y, np.average(np.array(eval_predsCB),axis=0), squared=False)"
   ],
   "metadata": {
    "execution": {
     "iopub.status.busy": "2023-01-08T04:44:21.597332Z",
     "iopub.status.idle": "2023-01-08T04:44:21.597666Z",
     "shell.execute_reply.started": "2023-01-08T04:44:21.597513Z",
     "shell.execute_reply": "2023-01-08T04:44:21.597529Z"
    },
    "trusted": true
   },
   "execution_count": null,
   "outputs": []
  },
  {
   "cell_type": "code",
   "source": [
    "# mean_squared_error(y, np.average(np.array(eval_predsXB),axis=0), squared=False)"
   ],
   "metadata": {
    "execution": {
     "iopub.status.busy": "2023-01-08T04:44:21.598731Z",
     "iopub.status.idle": "2023-01-08T04:44:21.599035Z",
     "shell.execute_reply.started": "2023-01-08T04:44:21.598878Z",
     "shell.execute_reply": "2023-01-08T04:44:21.598891Z"
    },
    "trusted": true
   },
   "execution_count": null,
   "outputs": []
  },
  {
   "cell_type": "code",
   "source": [
    "# mean_squared_error(y, np.average(np.array(eval_predsLB),axis=0), squared=False)"
   ],
   "metadata": {
    "execution": {
     "iopub.status.busy": "2023-01-08T04:44:21.599992Z",
     "iopub.status.idle": "2023-01-08T04:44:21.600350Z",
     "shell.execute_reply.started": "2023-01-08T04:44:21.600173Z",
     "shell.execute_reply": "2023-01-08T04:44:21.600187Z"
    },
    "trusted": true
   },
   "execution_count": null,
   "outputs": []
  },
  {
   "cell_type": "code",
   "source": [
    "a = 0.4\n",
    "b = 0.2\n",
    "c = 0.4"
   ],
   "metadata": {
    "execution": {
     "iopub.status.busy": "2023-01-08T04:44:21.601309Z",
     "iopub.status.idle": "2023-01-08T04:44:21.601598Z",
     "shell.execute_reply.started": "2023-01-08T04:44:21.601453Z",
     "shell.execute_reply": "2023-01-08T04:44:21.601467Z"
    },
    "trusted": true
   },
   "execution_count": null,
   "outputs": []
  },
  {
   "cell_type": "code",
   "source": [
    "# mean_squared_error(y, a* np.average(np.array(eval_predsCB),axis=0) + b* np.average(np.array(eval_predsXB),axis=0) + c* np.average(np.array(eval_predsLB),axis=0), squared=False)"
   ],
   "metadata": {
    "execution": {
     "iopub.status.busy": "2023-01-08T04:44:21.602735Z",
     "iopub.status.idle": "2023-01-08T04:44:21.603051Z",
     "shell.execute_reply.started": "2023-01-08T04:44:21.602883Z",
     "shell.execute_reply": "2023-01-08T04:44:21.602898Z"
    },
    "trusted": true
   },
   "execution_count": null,
   "outputs": []
  },
  {
   "cell_type": "markdown",
   "source": [
    "**Making prediction**"
   ],
   "metadata": {}
  },
  {
   "cell_type": "code",
   "source": [
    "predCB = np.average(np.array(predsCB),axis=0)\n",
    "predXB = np.average(np.array(predsXB),axis=0)\n",
    "predLB = np.average(np.array(predsLB),axis=0)\n",
    "pred = predCB * a + predXB * b + predLB * c"
   ],
   "metadata": {
    "execution": {
     "iopub.status.busy": "2023-01-08T04:44:21.604492Z",
     "iopub.status.idle": "2023-01-08T04:44:21.604788Z",
     "shell.execute_reply.started": "2023-01-08T04:44:21.604644Z",
     "shell.execute_reply": "2023-01-08T04:44:21.604659Z"
    },
    "trusted": true
   },
   "execution_count": null,
   "outputs": []
  },
  {
   "cell_type": "markdown",
   "source": [
    "**Making submission**"
   ],
   "metadata": {}
  },
  {
   "cell_type": "code",
   "source": [
    "submission['MedHouseVal'] = pred\n",
    "submission"
   ],
   "metadata": {
    "execution": {
     "iopub.status.busy": "2023-01-08T04:44:21.605698Z",
     "iopub.status.idle": "2023-01-08T04:44:21.606019Z",
     "shell.execute_reply.started": "2023-01-08T04:44:21.605833Z",
     "shell.execute_reply": "2023-01-08T04:44:21.605853Z"
    },
    "trusted": true
   },
   "execution_count": null,
   "outputs": []
  },
  {
   "cell_type": "code",
   "source": [
    "vals = train_df['MedHouseVal'].unique().tolist()\n",
    "submission['MedHouseVal'] = submission['MedHouseVal'].apply(lambda x: min(vals, key=lambda v: abs(v - x)))\n",
    "submission.MedHouseVal.clip(0, 5, inplace=True)"
   ],
   "metadata": {},
   "execution_count": null,
   "outputs": []
  },
  {
   "cell_type": "code",
   "source": [
    "submission.to_csv('submission.csv', index=False)"
   ],
   "metadata": {
    "execution": {
     "iopub.status.busy": "2023-01-08T04:44:21.607249Z",
     "iopub.status.idle": "2023-01-08T04:44:21.607534Z",
     "shell.execute_reply.started": "2023-01-08T04:44:21.607393Z",
     "shell.execute_reply": "2023-01-08T04:44:21.607407Z"
    },
    "trusted": true
   },
   "execution_count": null,
   "outputs": []
  }
 ]
}
