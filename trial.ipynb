{
 "cells": [
  {
   "cell_type": "code",
   "execution_count": 1,
   "metadata": {},
   "outputs": [
    {
     "name": "stdout",
     "output_type": "stream",
     "text": [
      "Collecting package metadata (current_repodata.json): done\r\n",
      "Solving environment: done\r\n",
      "\r\n",
      "# All requested packages already installed.\r\n",
      "\r\n",
      "\n",
      "Note: you may need to restart the kernel to use updated packages.\n"
     ]
    }
   ],
   "source": [
    "conda install lightgbm"
   ]
  },
  {
   "cell_type": "code",
   "execution_count": 2,
   "metadata": {},
   "outputs": [],
   "source": [
    "import pandas as pd\n",
    "import lightgbm as lgb\n",
    "import numpy as np\n",
    "import datetime\n",
    "import os\n",
    "\n",
    "from data_processing import Data"
   ]
  },
  {
   "cell_type": "code",
   "execution_count": 3,
   "outputs": [],
   "source": [
    "from sklearn.model_selection import train_test_split\n",
    "from sklearn.metrics import mean_squared_error\n",
    "from sklearn import metrics\n",
    "from sklearn.svm import SVR"
   ],
   "metadata": {
    "collapsed": false
   }
  },
  {
   "cell_type": "code",
   "execution_count": 4,
   "metadata": {},
   "outputs": [],
   "source": [
    "available_data = Data('train').data"
   ]
  },
  {
   "cell_type": "code",
   "execution_count": 20,
   "metadata": {},
   "outputs": [
    {
     "data": {
      "text/plain": "          id  MedInc  HouseAge  AveRooms  AveBedrms  Population  AveOccup  \\\n0          0  2.3859      15.0  3.827160   1.112100      1280.0  2.486989   \n1          1  3.7188      17.0  6.013373   1.054217      1504.0  3.813084   \n2          2  4.7750      27.0  6.535604   1.103175      1061.0  2.464602   \n3          3  2.4138      16.0  3.350203   0.965432      1255.0  2.089286   \n4          4  3.7500      52.0  4.284404   1.069246      1793.0  1.604790   \n...      ...     ...       ...       ...        ...         ...       ...   \n37132  37132  3.3438      50.0  4.936508   1.079365      1775.0  3.022222   \n37133  37133  3.7308      26.0  5.087533   0.966019      1006.0  4.316901   \n37134  37134  4.1716      52.0  4.678862   1.101485      1156.0  1.431734   \n37135  37135  2.7143      16.0  5.710074   1.068376       584.0  2.803659   \n37136  37136  2.2419      34.0  5.424419   1.058685      1340.0  3.799065   \n\n       Latitude  Longitude  MedHouseVal  \n0         34.60    -120.12        0.980  \n1         38.69    -121.22        0.946  \n2         34.71    -120.45        1.576  \n3         32.66    -117.09        1.336  \n4         37.80    -122.41        4.500  \n...         ...        ...          ...  \n37132     34.19    -118.36        1.856  \n37133     37.32    -121.86        1.588  \n37134     37.75    -122.44        3.387  \n37135     38.40    -120.98        1.592  \n37136     36.34    -119.64        0.652  \n\n[37137 rows x 10 columns]",
      "text/html": "<div>\n<style scoped>\n    .dataframe tbody tr th:only-of-type {\n        vertical-align: middle;\n    }\n\n    .dataframe tbody tr th {\n        vertical-align: top;\n    }\n\n    .dataframe thead th {\n        text-align: right;\n    }\n</style>\n<table border=\"1\" class=\"dataframe\">\n  <thead>\n    <tr style=\"text-align: right;\">\n      <th></th>\n      <th>id</th>\n      <th>MedInc</th>\n      <th>HouseAge</th>\n      <th>AveRooms</th>\n      <th>AveBedrms</th>\n      <th>Population</th>\n      <th>AveOccup</th>\n      <th>Latitude</th>\n      <th>Longitude</th>\n      <th>MedHouseVal</th>\n    </tr>\n  </thead>\n  <tbody>\n    <tr>\n      <th>0</th>\n      <td>0</td>\n      <td>2.3859</td>\n      <td>15.0</td>\n      <td>3.827160</td>\n      <td>1.112100</td>\n      <td>1280.0</td>\n      <td>2.486989</td>\n      <td>34.60</td>\n      <td>-120.12</td>\n      <td>0.980</td>\n    </tr>\n    <tr>\n      <th>1</th>\n      <td>1</td>\n      <td>3.7188</td>\n      <td>17.0</td>\n      <td>6.013373</td>\n      <td>1.054217</td>\n      <td>1504.0</td>\n      <td>3.813084</td>\n      <td>38.69</td>\n      <td>-121.22</td>\n      <td>0.946</td>\n    </tr>\n    <tr>\n      <th>2</th>\n      <td>2</td>\n      <td>4.7750</td>\n      <td>27.0</td>\n      <td>6.535604</td>\n      <td>1.103175</td>\n      <td>1061.0</td>\n      <td>2.464602</td>\n      <td>34.71</td>\n      <td>-120.45</td>\n      <td>1.576</td>\n    </tr>\n    <tr>\n      <th>3</th>\n      <td>3</td>\n      <td>2.4138</td>\n      <td>16.0</td>\n      <td>3.350203</td>\n      <td>0.965432</td>\n      <td>1255.0</td>\n      <td>2.089286</td>\n      <td>32.66</td>\n      <td>-117.09</td>\n      <td>1.336</td>\n    </tr>\n    <tr>\n      <th>4</th>\n      <td>4</td>\n      <td>3.7500</td>\n      <td>52.0</td>\n      <td>4.284404</td>\n      <td>1.069246</td>\n      <td>1793.0</td>\n      <td>1.604790</td>\n      <td>37.80</td>\n      <td>-122.41</td>\n      <td>4.500</td>\n    </tr>\n    <tr>\n      <th>...</th>\n      <td>...</td>\n      <td>...</td>\n      <td>...</td>\n      <td>...</td>\n      <td>...</td>\n      <td>...</td>\n      <td>...</td>\n      <td>...</td>\n      <td>...</td>\n      <td>...</td>\n    </tr>\n    <tr>\n      <th>37132</th>\n      <td>37132</td>\n      <td>3.3438</td>\n      <td>50.0</td>\n      <td>4.936508</td>\n      <td>1.079365</td>\n      <td>1775.0</td>\n      <td>3.022222</td>\n      <td>34.19</td>\n      <td>-118.36</td>\n      <td>1.856</td>\n    </tr>\n    <tr>\n      <th>37133</th>\n      <td>37133</td>\n      <td>3.7308</td>\n      <td>26.0</td>\n      <td>5.087533</td>\n      <td>0.966019</td>\n      <td>1006.0</td>\n      <td>4.316901</td>\n      <td>37.32</td>\n      <td>-121.86</td>\n      <td>1.588</td>\n    </tr>\n    <tr>\n      <th>37134</th>\n      <td>37134</td>\n      <td>4.1716</td>\n      <td>52.0</td>\n      <td>4.678862</td>\n      <td>1.101485</td>\n      <td>1156.0</td>\n      <td>1.431734</td>\n      <td>37.75</td>\n      <td>-122.44</td>\n      <td>3.387</td>\n    </tr>\n    <tr>\n      <th>37135</th>\n      <td>37135</td>\n      <td>2.7143</td>\n      <td>16.0</td>\n      <td>5.710074</td>\n      <td>1.068376</td>\n      <td>584.0</td>\n      <td>2.803659</td>\n      <td>38.40</td>\n      <td>-120.98</td>\n      <td>1.592</td>\n    </tr>\n    <tr>\n      <th>37136</th>\n      <td>37136</td>\n      <td>2.2419</td>\n      <td>34.0</td>\n      <td>5.424419</td>\n      <td>1.058685</td>\n      <td>1340.0</td>\n      <td>3.799065</td>\n      <td>36.34</td>\n      <td>-119.64</td>\n      <td>0.652</td>\n    </tr>\n  </tbody>\n</table>\n<p>37137 rows × 10 columns</p>\n</div>"
     },
     "execution_count": 20,
     "metadata": {},
     "output_type": "execute_result"
    }
   ],
   "source": [
    "available_data"
   ]
  },
  {
   "cell_type": "markdown",
   "source": [
    "# LightGBM Trial"
   ],
   "metadata": {
    "collapsed": false
   }
  },
  {
   "cell_type": "code",
   "execution_count": 21,
   "outputs": [
    {
     "data": {
      "text/plain": "id             0\nMedInc         0\nHouseAge       0\nAveRooms       0\nAveBedrms      0\nPopulation     0\nAveOccup       0\nLatitude       0\nLongitude      0\nMedHouseVal    0\ndtype: int64"
     },
     "execution_count": 21,
     "metadata": {},
     "output_type": "execute_result"
    }
   ],
   "source": [
    "available_data.isnull().sum()"
   ],
   "metadata": {
    "collapsed": false
   }
  },
  {
   "cell_type": "code",
   "execution_count": 5,
   "outputs": [],
   "source": [
    "class Data:\n",
    "    def __init__(self, data_type: str = 'train'):\n",
    "        self.data_type = data_type\n",
    "        self.data = pd.read_csv('train.csv', index_col=0) if data_type == 'train' else pd.read_csv('test.csv',\n",
    "                                                                                                   index_col=0)\n",
    "\n",
    "    @staticmethod\n",
    "    def get_train_test_split(test_size: float = 0.3, random_state: int = 42):\n",
    "        X = pd.read_csv('train.csv', index_col=0).drop('MedHouseVal', axis=1)\n",
    "        y = pd.read_csv('train.csv', index_col=0)['MedHouseVal']\n",
    "        x_train, x_test, y_train, y_test = train_test_split(X, y, test_size=test_size, random_state=random_state)\n",
    "        return x_train, x_test, y_train, y_test"
   ],
   "metadata": {
    "collapsed": false
   }
  },
  {
   "cell_type": "code",
   "execution_count": 6,
   "outputs": [],
   "source": [
    "data = Data('train')\n",
    "x_train, x_test, y_train, y_test = data.get_train_test_split()"
   ],
   "metadata": {
    "collapsed": false
   }
  },
  {
   "cell_type": "code",
   "execution_count": 55,
   "outputs": [
    {
     "name": "stdout",
     "output_type": "stream",
     "text": [
      "开始训练...\n",
      "[LightGBM] [Warning] Auto-choosing col-wise multi-threading, the overhead of testing was 0.001988 seconds.\n",
      "You can set `force_col_wise=true` to remove the overhead.\n",
      "[1]\tvalid_0's l2: 1.18907\tvalid_0's auc: 1\n",
      "Training until validation scores don't improve for 5 rounds\n",
      "[2]\tvalid_0's l2: 1.06805\tvalid_0's auc: 1\n",
      "[3]\tvalid_0's l2: 0.954586\tvalid_0's auc: 1\n",
      "[4]\tvalid_0's l2: 0.872976\tvalid_0's auc: 1\n",
      "[5]\tvalid_0's l2: 0.794956\tvalid_0's auc: 1\n",
      "[6]\tvalid_0's l2: 0.729541\tvalid_0's auc: 1\n",
      "Early stopping, best iteration is:\n",
      "[1]\tvalid_0's l2: 1.18907\tvalid_0's auc: 1\n",
      "保存模型...\n",
      "开始预测...\n",
      "预估结果的rmse为:\n",
      "1.0904448638144022\n"
     ]
    }
   ],
   "source": [
    "lgb_train = lgb.Dataset(x_train, y_train)\n",
    "lgb_eval = lgb.Dataset(x_test, y_test, reference=lgb_train)\n",
    "\n",
    "params = {\n",
    "    'task': 'train',\n",
    "    'boosting_type': 'gbdt',\n",
    "    'objective': 'regression',\n",
    "    'metric': {'l2', 'auc'},\n",
    "    'num_leaves': 30,\n",
    "    'learning_rate': 0.1,\n",
    "    'feature_fraction': 0.9,\n",
    "    'bagging_fraction': 0.8,\n",
    "    'bagging_freq': 5,\n",
    "    'verbose': 0\n",
    "}\n",
    "\n",
    "print('开始训练...')\n",
    "\n",
    "gbm = lgb.train(params,\n",
    "                lgb_train,\n",
    "                num_boost_round=30,\n",
    "                valid_sets=lgb_eval,\n",
    "                early_stopping_rounds=5)\n",
    "\n",
    "print('保存模型...')\n",
    "gbm.save_model('lgb_model.txt')\n",
    "\n",
    "print('开始预测...')\n",
    "y_pred = gbm.predict(x_test, num_iteration=gbm.best_iteration)\n",
    "\n",
    "print('预估结果的rmse为:')\n",
    "print(mean_squared_error(y_test, y_pred) ** 0.5)"
   ],
   "metadata": {
    "collapsed": false
   }
  },
  {
   "cell_type": "code",
   "execution_count": null,
   "outputs": [],
   "source": [],
   "metadata": {
    "collapsed": false
   }
  },
  {
   "cell_type": "markdown",
   "source": [
    "# XGBoost"
   ],
   "metadata": {
    "collapsed": false
   }
  },
  {
   "cell_type": "code",
   "execution_count": 60,
   "outputs": [
    {
     "name": "stdout",
     "output_type": "stream",
     "text": [
      "Collecting xgboost\r\n",
      "  Downloading xgboost-1.7.2-py3-none-macosx_10_15_x86_64.macosx_11_0_x86_64.macosx_12_0_x86_64.whl (1.8 MB)\r\n",
      "\u001B[K     |████████████████████████████████| 1.8 MB 27.6 MB/s eta 0:00:01\r\n",
      "\u001B[?25hRequirement already satisfied: numpy in /Users/zhenningli/opt/anaconda3/lib/python3.9/site-packages (from xgboost) (1.21.5)\r\n",
      "Requirement already satisfied: scipy in /Users/zhenningli/opt/anaconda3/lib/python3.9/site-packages (from xgboost) (1.7.3)\r\n",
      "Installing collected packages: xgboost\r\n",
      "Successfully installed xgboost-1.7.2\r\n"
     ]
    }
   ],
   "source": [
    "!pip install xgboost"
   ],
   "metadata": {
    "collapsed": false
   }
  },
  {
   "cell_type": "code",
   "execution_count": 63,
   "outputs": [],
   "source": [
    "import xgboost as xgb\n",
    "\n",
    "from sklearn.preprocessing import OneHotEncoder, StandardScaler\n",
    "from sklearn.pipeline import make_pipeline\n",
    "from sklearn.metrics import mean_absolute_error, mean_squared_error"
   ],
   "metadata": {
    "collapsed": false
   }
  },
  {
   "cell_type": "code",
   "execution_count": 114,
   "outputs": [],
   "source": [
    "data = Data('train')\n",
    "x_train, x_test, y_train, y_test = data.get_train_test_split()"
   ],
   "metadata": {
    "collapsed": false
   }
  },
  {
   "cell_type": "code",
   "execution_count": 115,
   "outputs": [
    {
     "name": "stdout",
     "output_type": "stream",
     "text": [
      "estimator is: 100\n",
      "rsme is:  0.5951608804983991\n",
      "estimator is: 150\n",
      "rsme is:  0.5897505695690545\n",
      "estimator is: 200\n",
      "rsme is:  0.5876890418377806\n",
      "estimator is: 250\n",
      "rsme is:  0.5862338329868256\n",
      "estimator is: 300\n",
      "rsme is:  0.5851450231344112\n",
      "estimator is: 350\n",
      "rsme is:  0.5846718656197837\n",
      "estimator is: 400\n",
      "rsme is:  0.5843587534983223\n",
      "estimator is: 450\n",
      "rsme is:  0.5839769335203581\n",
      "estimator is: 500\n",
      "rsme is:  0.5835009869571068\n",
      "estimator is: 550\n",
      "rsme is:  0.5827557697126526\n",
      "estimator is: 600\n",
      "rsme is:  0.582702082149625\n",
      "estimator is: 650\n",
      "rsme is:  0.5826752489042742\n",
      "estimator is: 700\n",
      "rsme is:  0.5822929123515511\n",
      "estimator is: 750\n",
      "rsme is:  0.5822654778840444\n",
      "estimator is: 800\n",
      "rsme is:  0.5826154623859073\n",
      "estimator is: 850\n",
      "rsme is:  0.5826535407882079\n",
      "estimator is: 900\n",
      "rsme is:  0.5829032453511076\n",
      "estimator is: 950\n",
      "rsme is:  0.5830785941568687\n"
     ]
    }
   ],
   "source": [
    "n_estimator = list(range(100, 1000, 50))\n",
    "\n",
    "for estimator in n_estimator:\n",
    "    print(f'estimator is: {estimator}')\n",
    "    params = {\n",
    "        'n_estimators': estimator,\n",
    "        'max_depth': 5,\n",
    "        'learning_rate': 0.08,\n",
    "        'reg_alpha': 0.1,\n",
    "        'reg_lambda': 0.9,\n",
    "        'objective': 'reg:squarederror',\n",
    "        'verbosity': 0\n",
    "    }\n",
    "\n",
    "    model = xgb.XGBRegressor(**params)\n",
    "    model.fit(x_train, y_train)\n",
    "    y_pred = model.predict(x_test)\n",
    "\n",
    "    print(f'rsme is: ', mean_squared_error(y_pred, y_test) ** 0.5)"
   ],
   "metadata": {
    "collapsed": false
   }
  },
  {
   "cell_type": "code",
   "execution_count": 116,
   "outputs": [
    {
     "name": "stdout",
     "output_type": "stream",
     "text": [
      "rsme is:  0.5822654778840444\n"
     ]
    }
   ],
   "source": [
    "# So maybe we should use 750\n",
    "params = {\n",
    "    'n_estimators': 750,\n",
    "    'max_depth': 5,\n",
    "    'learning_rate': 0.08,\n",
    "    'reg_alpha': 0.1,\n",
    "    'reg_lambda': 0.9,\n",
    "    'objective': 'reg:squarederror',\n",
    "    'verbosity': 0\n",
    "}\n",
    "\n",
    "model = xgb.XGBRegressor(**params)\n",
    "model.fit(x_train, y_train)\n",
    "y_pred = model.predict(x_test)\n",
    "\n",
    "print(f'rsme is: ', mean_squared_error(y_pred, y_test) ** 0.5)"
   ],
   "metadata": {
    "collapsed": false
   }
  },
  {
   "cell_type": "code",
   "execution_count": 117,
   "outputs": [
    {
     "data": {
      "text/plain": "<AxesSubplot:title={'center':'Feature importance'}, xlabel='F score', ylabel='Features'>"
     },
     "execution_count": 117,
     "metadata": {},
     "output_type": "execute_result"
    },
    {
     "data": {
      "text/plain": "<Figure size 432x288 with 1 Axes>",
      "image/png": "[encoded data removed]"
     },
     "metadata": {
      "needs_background": "light"
     },
     "output_type": "display_data"
    }
   ],
   "source": [
    "xgb.plot_importance(model)"
   ],
   "metadata": {
    "collapsed": false
   }
  },
  {
   "cell_type": "code",
   "execution_count": 118,
   "outputs": [
    {
     "data": {
      "text/plain": "       MedInc  HouseAge  AveRooms  AveBedrms  Population  AveOccup  Latitude  \\\nid                                                                             \n31089  5.0855      17.0  6.190805   1.105747      1538.0  3.373563     38.02   \n28863  3.3636       5.0  4.239899   1.020202      3278.0  2.066007     33.68   \n20379  5.0417      29.0  6.602317   1.023529      1119.0  2.705479     33.84   \n3942   4.1364      22.0  5.448584   0.986717      1750.0  3.020478     38.47   \n26360  1.6031      39.0  4.742204   1.075092      1168.0  3.250000     36.75   \n\n       Longitude  \nid                \n31089    -121.36  \n28863    -117.53  \n20379    -117.95  \n3942     -121.77  \n26360    -119.80  ",
      "text/html": "<div>\n<style scoped>\n    .dataframe tbody tr th:only-of-type {\n        vertical-align: middle;\n    }\n\n    .dataframe tbody tr th {\n        vertical-align: top;\n    }\n\n    .dataframe thead th {\n        text-align: right;\n    }\n</style>\n<table border=\"1\" class=\"dataframe\">\n  <thead>\n    <tr style=\"text-align: right;\">\n      <th></th>\n      <th>MedInc</th>\n      <th>HouseAge</th>\n      <th>AveRooms</th>\n      <th>AveBedrms</th>\n      <th>Population</th>\n      <th>AveOccup</th>\n      <th>Latitude</th>\n      <th>Longitude</th>\n    </tr>\n    <tr>\n      <th>id</th>\n      <th></th>\n      <th></th>\n      <th></th>\n      <th></th>\n      <th></th>\n      <th></th>\n      <th></th>\n      <th></th>\n    </tr>\n  </thead>\n  <tbody>\n    <tr>\n      <th>31089</th>\n      <td>5.0855</td>\n      <td>17.0</td>\n      <td>6.190805</td>\n      <td>1.105747</td>\n      <td>1538.0</td>\n      <td>3.373563</td>\n      <td>38.02</td>\n      <td>-121.36</td>\n    </tr>\n    <tr>\n      <th>28863</th>\n      <td>3.3636</td>\n      <td>5.0</td>\n      <td>4.239899</td>\n      <td>1.020202</td>\n      <td>3278.0</td>\n      <td>2.066007</td>\n      <td>33.68</td>\n      <td>-117.53</td>\n    </tr>\n    <tr>\n      <th>20379</th>\n      <td>5.0417</td>\n      <td>29.0</td>\n      <td>6.602317</td>\n      <td>1.023529</td>\n      <td>1119.0</td>\n      <td>2.705479</td>\n      <td>33.84</td>\n      <td>-117.95</td>\n    </tr>\n    <tr>\n      <th>3942</th>\n      <td>4.1364</td>\n      <td>22.0</td>\n      <td>5.448584</td>\n      <td>0.986717</td>\n      <td>1750.0</td>\n      <td>3.020478</td>\n      <td>38.47</td>\n      <td>-121.77</td>\n    </tr>\n    <tr>\n      <th>26360</th>\n      <td>1.6031</td>\n      <td>39.0</td>\n      <td>4.742204</td>\n      <td>1.075092</td>\n      <td>1168.0</td>\n      <td>3.250000</td>\n      <td>36.75</td>\n      <td>-119.80</td>\n    </tr>\n  </tbody>\n</table>\n</div>"
     },
     "execution_count": 118,
     "metadata": {},
     "output_type": "execute_result"
    }
   ],
   "source": [
    "x_test.head()"
   ],
   "metadata": {
    "collapsed": false
   }
  },
  {
   "cell_type": "code",
   "execution_count": 119,
   "outputs": [
    {
     "data": {
      "text/plain": "       MedInc  HouseAge  AveRooms  AveBedrms  Population  AveOccup  Latitude  \\\nid                                                                             \n37137  1.7062      35.0  4.966368   1.096539      1318.0  2.844411     39.75   \n37138  1.3882      22.0  4.187035   1.098229      2296.0  3.180218     33.95   \n37139  7.7197      21.0  7.129436   0.959276      1535.0  2.888889     33.61   \n37140  4.6806      49.0  4.769697   1.048485       707.0  1.743590     34.17   \n37141  3.1284      25.0  3.765306   1.081633      4716.0  2.003827     34.17   \n\n       Longitude  \nid                \n37137    -121.85  \n37138    -118.29  \n37139    -117.81  \n37140    -118.34  \n37141    -118.29  ",
      "text/html": "<div>\n<style scoped>\n    .dataframe tbody tr th:only-of-type {\n        vertical-align: middle;\n    }\n\n    .dataframe tbody tr th {\n        vertical-align: top;\n    }\n\n    .dataframe thead th {\n        text-align: right;\n    }\n</style>\n<table border=\"1\" class=\"dataframe\">\n  <thead>\n    <tr style=\"text-align: right;\">\n      <th></th>\n      <th>MedInc</th>\n      <th>HouseAge</th>\n      <th>AveRooms</th>\n      <th>AveBedrms</th>\n      <th>Population</th>\n      <th>AveOccup</th>\n      <th>Latitude</th>\n      <th>Longitude</th>\n    </tr>\n    <tr>\n      <th>id</th>\n      <th></th>\n      <th></th>\n      <th></th>\n      <th></th>\n      <th></th>\n      <th></th>\n      <th></th>\n      <th></th>\n    </tr>\n  </thead>\n  <tbody>\n    <tr>\n      <th>37137</th>\n      <td>1.7062</td>\n      <td>35.0</td>\n      <td>4.966368</td>\n      <td>1.096539</td>\n      <td>1318.0</td>\n      <td>2.844411</td>\n      <td>39.75</td>\n      <td>-121.85</td>\n    </tr>\n    <tr>\n      <th>37138</th>\n      <td>1.3882</td>\n      <td>22.0</td>\n      <td>4.187035</td>\n      <td>1.098229</td>\n      <td>2296.0</td>\n      <td>3.180218</td>\n      <td>33.95</td>\n      <td>-118.29</td>\n    </tr>\n    <tr>\n      <th>37139</th>\n      <td>7.7197</td>\n      <td>21.0</td>\n      <td>7.129436</td>\n      <td>0.959276</td>\n      <td>1535.0</td>\n      <td>2.888889</td>\n      <td>33.61</td>\n      <td>-117.81</td>\n    </tr>\n    <tr>\n      <th>37140</th>\n      <td>4.6806</td>\n      <td>49.0</td>\n      <td>4.769697</td>\n      <td>1.048485</td>\n      <td>707.0</td>\n      <td>1.743590</td>\n      <td>34.17</td>\n      <td>-118.34</td>\n    </tr>\n    <tr>\n      <th>37141</th>\n      <td>3.1284</td>\n      <td>25.0</td>\n      <td>3.765306</td>\n      <td>1.081633</td>\n      <td>4716.0</td>\n      <td>2.003827</td>\n      <td>34.17</td>\n      <td>-118.29</td>\n    </tr>\n  </tbody>\n</table>\n</div>"
     },
     "execution_count": 119,
     "metadata": {},
     "output_type": "execute_result"
    }
   ],
   "source": [
    "prediction_data = Data('test').data\n",
    "prediction_data.head()"
   ],
   "metadata": {
    "collapsed": false
   }
  },
  {
   "cell_type": "code",
   "execution_count": 120,
   "outputs": [],
   "source": [
    "y_pred = model.predict(prediction_data)\n",
    "\n",
    "# make to correct format\n",
    "columns_name = ['MedHouseVal']\n",
    "df_for_submission = pd.DataFrame(data=y_pred, index=prediction_data.index, columns=columns_name)\n",
    "df_for_submission.to_csv(os.path.join(os.getcwd(), 'for_submission', 'xgb_result.csv'))"
   ],
   "metadata": {
    "collapsed": false
   }
  },
  {
   "cell_type": "code",
   "execution_count": 122,
   "outputs": [
    {
     "data": {
      "text/plain": "0.6539792387543253"
     },
     "execution_count": 122,
     "metadata": {},
     "output_type": "execute_result"
    }
   ],
   "source": [
    "189/289"
   ],
   "metadata": {
    "collapsed": false
   }
  },
  {
   "cell_type": "code",
   "execution_count": null,
   "outputs": [],
   "source": [],
   "metadata": {
    "collapsed": false
   }
  },
  {
   "cell_type": "markdown",
   "source": [
    "# SVM-SVR Trial"
   ],
   "metadata": {
    "collapsed": false
   }
  },
  {
   "cell_type": "code",
   "execution_count": 124,
   "outputs": [],
   "source": [
    "data = Data('train')\n",
    "x_train, x_test, y_train, y_test = data.get_train_test_split()"
   ],
   "metadata": {
    "collapsed": false
   }
  },
  {
   "cell_type": "code",
   "execution_count": 131,
   "outputs": [
    {
     "name": "stdout",
     "output_type": "stream",
     "text": [
      "rsme is:  1.0642501029165188\n"
     ]
    }
   ],
   "source": [
    "params = {\n",
    "    'C': 1.0,\n",
    "    'kernel': 'rbf',\n",
    "    'gamma': 'auto',\n",
    "    'cache_size': 100,\n",
    "    'degree': 3\n",
    "}\n",
    "\n",
    "model_svm = SVR(**params)\n",
    "model_svm.fit(x_train, y_train)\n",
    "\n",
    "y_pred = model_svm.predict(x_test)\n",
    "\n",
    "print(f'rsme is: ', mean_squared_error(y_pred, y_test) ** 0.5)"
   ],
   "metadata": {
    "collapsed": false
   }
  },
  {
   "cell_type": "code",
   "execution_count": 126,
   "outputs": [
    {
     "data": {
      "text/plain": "       MedInc  HouseAge  AveRooms  AveBedrms  Population  AveOccup  Latitude  \\\nid                                                                             \n17647  4.9643      33.0  5.649425   1.011494      1390.0  2.826271     34.04   \n11010  4.7946      13.0  7.337500   1.031250      1888.0  2.690972     38.65   \n35733  4.7094      13.0  6.527646   1.132189      1884.0  2.935860     33.83   \n6552   5.8898      16.0  6.205937   1.024015      2318.0  3.291809     34.22   \n17191  2.3456      11.0  3.371642   1.139326       729.0  2.539735     34.16   \n...       ...       ...       ...        ...         ...       ...       ...   \n16850  2.7797      35.0  4.539378   1.035316      1583.0  3.128959     37.35   \n6265   3.0481      39.0  5.930000   1.171875       779.0  2.738750     35.34   \n11284  3.6346      33.0  5.010462   1.021423      2099.0  2.263598     37.65   \n860    2.1979      21.0  4.722298   1.039690      1614.0  2.432316     34.58   \n15795  2.1449      21.0  5.017953   1.026930      1413.0  2.072797     38.49   \n\n       Longitude  \nid                \n17647    -118.48  \n11010    -121.36  \n35733    -117.21  \n6552     -118.88  \n17191    -118.37  \n...          ...  \n16850    -121.86  \n6265     -119.01  \n11284    -122.43  \n860      -117.41  \n15795    -121.50  \n\n[25995 rows x 8 columns]",
      "text/html": "<div>\n<style scoped>\n    .dataframe tbody tr th:only-of-type {\n        vertical-align: middle;\n    }\n\n    .dataframe tbody tr th {\n        vertical-align: top;\n    }\n\n    .dataframe thead th {\n        text-align: right;\n    }\n</style>\n<table border=\"1\" class=\"dataframe\">\n  <thead>\n    <tr style=\"text-align: right;\">\n      <th></th>\n      <th>MedInc</th>\n      <th>HouseAge</th>\n      <th>AveRooms</th>\n      <th>AveBedrms</th>\n      <th>Population</th>\n      <th>AveOccup</th>\n      <th>Latitude</th>\n      <th>Longitude</th>\n    </tr>\n    <tr>\n      <th>id</th>\n      <th></th>\n      <th></th>\n      <th></th>\n      <th></th>\n      <th></th>\n      <th></th>\n      <th></th>\n      <th></th>\n    </tr>\n  </thead>\n  <tbody>\n    <tr>\n      <th>17647</th>\n      <td>4.9643</td>\n      <td>33.0</td>\n      <td>5.649425</td>\n      <td>1.011494</td>\n      <td>1390.0</td>\n      <td>2.826271</td>\n      <td>34.04</td>\n      <td>-118.48</td>\n    </tr>\n    <tr>\n      <th>11010</th>\n      <td>4.7946</td>\n      <td>13.0</td>\n      <td>7.337500</td>\n      <td>1.031250</td>\n      <td>1888.0</td>\n      <td>2.690972</td>\n      <td>38.65</td>\n      <td>-121.36</td>\n    </tr>\n    <tr>\n      <th>35733</th>\n      <td>4.7094</td>\n      <td>13.0</td>\n      <td>6.527646</td>\n      <td>1.132189</td>\n      <td>1884.0</td>\n      <td>2.935860</td>\n      <td>33.83</td>\n      <td>-117.21</td>\n    </tr>\n    <tr>\n      <th>6552</th>\n      <td>5.8898</td>\n      <td>16.0</td>\n      <td>6.205937</td>\n      <td>1.024015</td>\n      <td>2318.0</td>\n      <td>3.291809</td>\n      <td>34.22</td>\n      <td>-118.88</td>\n    </tr>\n    <tr>\n      <th>17191</th>\n      <td>2.3456</td>\n      <td>11.0</td>\n      <td>3.371642</td>\n      <td>1.139326</td>\n      <td>729.0</td>\n      <td>2.539735</td>\n      <td>34.16</td>\n      <td>-118.37</td>\n    </tr>\n    <tr>\n      <th>...</th>\n      <td>...</td>\n      <td>...</td>\n      <td>...</td>\n      <td>...</td>\n      <td>...</td>\n      <td>...</td>\n      <td>...</td>\n      <td>...</td>\n    </tr>\n    <tr>\n      <th>16850</th>\n      <td>2.7797</td>\n      <td>35.0</td>\n      <td>4.539378</td>\n      <td>1.035316</td>\n      <td>1583.0</td>\n      <td>3.128959</td>\n      <td>37.35</td>\n      <td>-121.86</td>\n    </tr>\n    <tr>\n      <th>6265</th>\n      <td>3.0481</td>\n      <td>39.0</td>\n      <td>5.930000</td>\n      <td>1.171875</td>\n      <td>779.0</td>\n      <td>2.738750</td>\n      <td>35.34</td>\n      <td>-119.01</td>\n    </tr>\n    <tr>\n      <th>11284</th>\n      <td>3.6346</td>\n      <td>33.0</td>\n      <td>5.010462</td>\n      <td>1.021423</td>\n      <td>2099.0</td>\n      <td>2.263598</td>\n      <td>37.65</td>\n      <td>-122.43</td>\n    </tr>\n    <tr>\n      <th>860</th>\n      <td>2.1979</td>\n      <td>21.0</td>\n      <td>4.722298</td>\n      <td>1.039690</td>\n      <td>1614.0</td>\n      <td>2.432316</td>\n      <td>34.58</td>\n      <td>-117.41</td>\n    </tr>\n    <tr>\n      <th>15795</th>\n      <td>2.1449</td>\n      <td>21.0</td>\n      <td>5.017953</td>\n      <td>1.026930</td>\n      <td>1413.0</td>\n      <td>2.072797</td>\n      <td>38.49</td>\n      <td>-121.50</td>\n    </tr>\n  </tbody>\n</table>\n<p>25995 rows × 8 columns</p>\n</div>"
     },
     "execution_count": 126,
     "metadata": {},
     "output_type": "execute_result"
    }
   ],
   "source": [
    "x_train"
   ],
   "metadata": {
    "collapsed": false
   }
  },
  {
   "cell_type": "code",
   "execution_count": null,
   "outputs": [],
   "source": [],
   "metadata": {
    "collapsed": false
   }
  },
  {
   "cell_type": "code",
   "execution_count": null,
   "outputs": [],
   "source": [],
   "metadata": {
    "collapsed": false
   }
  },
  {
   "cell_type": "markdown",
   "source": [
    "# Basic Neural Network"
   ],
   "metadata": {
    "collapsed": false
   }
  },
  {
   "cell_type": "code",
   "execution_count": 134,
   "outputs": [
    {
     "name": "stdout",
     "output_type": "stream",
     "text": [
      "Collecting torch\r\n",
      "  Downloading torch-1.13.1-cp39-none-macosx_10_9_x86_64.whl (135.3 MB)\r\n",
      "\u001B[K     |████████████████████████████████| 135.3 MB 327 kB/s eta 0:00:01     |███████████████████████████████▎| 132.4 MB 306 kB/s eta 0:00:10\r\n",
      "\u001B[?25hRequirement already satisfied: typing-extensions in /Users/zhenningli/opt/anaconda3/lib/python3.9/site-packages (from torch) (4.4.0)\r\n",
      "Installing collected packages: torch\r\n",
      "Successfully installed torch-1.13.1\r\n"
     ]
    }
   ],
   "source": [
    "!pip install torch"
   ],
   "metadata": {
    "collapsed": false
   }
  },
  {
   "cell_type": "code",
   "execution_count": 7,
   "outputs": [],
   "source": [
    "import torch\n",
    "import numpy as np\n",
    "from torch import nn\n",
    "from torch.autograd import Variable\n",
    "import torch.nn.functional as F"
   ],
   "metadata": {
    "collapsed": false
   }
  },
  {
   "cell_type": "code",
   "execution_count": 1,
   "outputs": [
    {
     "ename": "NameError",
     "evalue": "name 'Data' is not defined",
     "output_type": "error",
     "traceback": [
      "\u001B[0;31m---------------------------------------------------------------------------\u001B[0m",
      "\u001B[0;31mNameError\u001B[0m                                 Traceback (most recent call last)",
      "Input \u001B[0;32mIn [1]\u001B[0m, in \u001B[0;36m<cell line: 1>\u001B[0;34m()\u001B[0m\n\u001B[0;32m----> 1\u001B[0m data \u001B[38;5;241m=\u001B[39m \u001B[43mData\u001B[49m(\u001B[38;5;124m'\u001B[39m\u001B[38;5;124mtrain\u001B[39m\u001B[38;5;124m'\u001B[39m)\n\u001B[1;32m      2\u001B[0m x_train, x_test, y_train, y_test \u001B[38;5;241m=\u001B[39m data\u001B[38;5;241m.\u001B[39mget_train_test_split()\n",
      "\u001B[0;31mNameError\u001B[0m: name 'Data' is not defined"
     ]
    }
   ],
   "source": [
    "data = Data('train')\n",
    "x_train, x_test, y_train, y_test = data.get_train_test_split()\n",
    "\n",
    "x_train = torch.tensor(x_train.values)\n",
    "x_test = torch.tensor(x_test.values)\n",
    "y_train = torch.tensor(y_train.values)\n",
    "y_test = torch.tensor(y_test.values)"
   ],
   "metadata": {
    "collapsed": false
   }
  },
  {
   "cell_type": "code",
   "execution_count": null,
   "outputs": [],
   "source": [
    "# x_train = torch.from_numpy(x_train.values).float().to('cpu')"
   ],
   "metadata": {
    "collapsed": false
   }
  },
  {
   "cell_type": "code",
   "execution_count": 137,
   "outputs": [
    {
     "ename": "TypeError",
     "evalue": "Variable data has to be a tensor, but got DataFrame",
     "output_type": "error",
     "traceback": [
      "\u001B[0;31m---------------------------------------------------------------------------\u001B[0m",
      "\u001B[0;31mTypeError\u001B[0m                                 Traceback (most recent call last)",
      "Input \u001B[0;32mIn [137]\u001B[0m, in \u001B[0;36m<cell line: 21>\u001B[0;34m()\u001B[0m\n\u001B[1;32m     20\u001B[0m \u001B[38;5;66;03m# 训练n次\u001B[39;00m\n\u001B[1;32m     21\u001B[0m \u001B[38;5;28;01mfor\u001B[39;00m e \u001B[38;5;129;01min\u001B[39;00m \u001B[38;5;28mrange\u001B[39m(\u001B[38;5;241m10000\u001B[39m):\n\u001B[0;32m---> 22\u001B[0m     out \u001B[38;5;241m=\u001B[39m seq_net(\u001B[43mVariable\u001B[49m\u001B[43m(\u001B[49m\u001B[43mx_train\u001B[49m\u001B[43m)\u001B[49m)\n\u001B[1;32m     23\u001B[0m     loss \u001B[38;5;241m=\u001B[39m criterion(out, Variable(y_train))\n\u001B[1;32m     24\u001B[0m     optim\u001B[38;5;241m.\u001B[39mzero_grad()\n",
      "\u001B[0;31mTypeError\u001B[0m: Variable data has to be a tensor, but got DataFrame"
     ]
    }
   ],
   "source": [
    "seq_net = nn.Sequential(\n",
    "    nn.Linear(9, 4),  # PyTorch 中的线性层，wx + b\n",
    "    nn.ReLU(),\n",
    "    nn.Linear(4, 16),\n",
    "    nn.ReLU(),\n",
    "    nn.Linear(16, 4),\n",
    "    nn.ReLU(),\n",
    "    nn.Linear(4, 1),\n",
    ")\n",
    "\n",
    "param = seq_net.parameters()\n",
    "optim = torch.optim.SGD(param, 1.)\n",
    "\n",
    "# 自定义RMSE，因为只有MSE\n",
    "def RMSELoss(yhat, y):\n",
    "    return torch.sqrt(torch.mean((yhat - y) ** 2))\n",
    "\n",
    "criterion = RMSELoss\n",
    "\n",
    "# 训练n次\n",
    "for e in range(10000):\n",
    "    out = seq_net(Variable(x_train))\n",
    "    loss = criterion(out, Variable(y_train))\n",
    "    optim.zero_grad()\n",
    "    loss.backward()\n",
    "    optim.step()\n",
    "    if (e + 1) % 1000 == 0:\n",
    "        print('epoch: {}, RMSE loss: {}'.format(e + 1, loss.data[0]))"
   ],
   "metadata": {
    "collapsed": false
   }
  },
  {
   "cell_type": "code",
   "execution_count": null,
   "outputs": [],
   "source": [
    "y_pred = seq_net(Variable(x_test))"
   ],
   "metadata": {
    "collapsed": false
   }
  },
  {
   "cell_type": "code",
   "execution_count": null,
   "outputs": [],
   "source": [],
   "metadata": {
    "collapsed": false
   }
  },
  {
   "cell_type": "code",
   "execution_count": null,
   "outputs": [],
   "source": [],
   "metadata": {
    "collapsed": false
   }
  }
 ],
 "metadata": {
  "kernelspec": {
   "display_name": "Python 3 (ipykernel)",
   "language": "python",
   "name": "python3"
  },
  "language_info": {
   "codemirror_mode": {
    "name": "ipython",
    "version": 3
   },
   "file_extension": ".py",
   "mimetype": "text/x-python",
   "name": "python",
   "nbconvert_exporter": "python",
   "pygments_lexer": "ipython3",
   "version": "3.9.12"
  },
  "latex_envs": {
   "LaTeX_envs_menu_present": true,
   "autoclose": false,
   "autocomplete": true,
   "bibliofile": "biblio.bib",
   "cite_by": "apalike",
   "current_citInitial": 1,
   "eqLabelWithNumbers": true,
   "eqNumInitial": 1,
   "hotkeys": {
    "equation": "Ctrl-E",
    "itemize": "Ctrl-I"
   },
   "labels_anchors": false,
   "latex_user_defs": false,
   "report_style_numbering": false,
   "user_envs_cfg": false
  },
  "toc": {
   "base_numbering": 1,
   "nav_menu": {},
   "number_sections": true,
   "sideBar": true,
   "skip_h1_title": false,
   "title_cell": "Table of Contents",
   "title_sidebar": "Contents",
   "toc_cell": false,
   "toc_position": {},
   "toc_section_display": true,
   "toc_window_display": false
  }
 },
 "nbformat": 4,
 "nbformat_minor": 1
}
