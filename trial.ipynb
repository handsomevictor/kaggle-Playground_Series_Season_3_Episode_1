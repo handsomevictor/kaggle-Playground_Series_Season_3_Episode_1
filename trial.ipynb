{
 "cells": [
  {
   "cell_type": "code",
   "execution_count": 1,
   "metadata": {},
   "outputs": [
    {
     "name": "stdout",
     "output_type": "stream",
     "text": [
      "Collecting package metadata (current_repodata.json): done\r\n",
      "Solving environment: done\r\n",
      "\r\n",
      "# All requested packages already installed.\r\n",
      "\r\n",
      "\n",
      "Note: you may need to restart the kernel to use updated packages.\n"
     ]
    }
   ],
   "source": [
    "conda install lightgbm"
   ]
  },
  {
   "cell_type": "code",
   "execution_count": 35,
   "metadata": {},
   "outputs": [],
   "source": [
    "import pandas as pd\n",
    "import lightgbm as lgb\n",
    "import numpy as np\n",
    "import datetime\n",
    "import os\n",
    "\n",
    "from data_processing import Data"
   ]
  },
  {
   "cell_type": "code",
   "execution_count": 41,
   "outputs": [],
   "source": [
    "from sklearn.model_selection import train_test_split\n",
    "from sklearn.metrics import mean_squared_error\n",
    "from sklearn import metrics"
   ],
   "metadata": {
    "collapsed": false
   }
  },
  {
   "cell_type": "code",
   "execution_count": 27,
   "metadata": {},
   "outputs": [],
   "source": [
    "available_data = Data('train').data\n",
    "prediction_data = Data('test').data"
   ]
  },
  {
   "cell_type": "code",
   "execution_count": 20,
   "metadata": {},
   "outputs": [
    {
     "data": {
      "text/plain": "          id  MedInc  HouseAge  AveRooms  AveBedrms  Population  AveOccup  \\\n0          0  2.3859      15.0  3.827160   1.112100      1280.0  2.486989   \n1          1  3.7188      17.0  6.013373   1.054217      1504.0  3.813084   \n2          2  4.7750      27.0  6.535604   1.103175      1061.0  2.464602   \n3          3  2.4138      16.0  3.350203   0.965432      1255.0  2.089286   \n4          4  3.7500      52.0  4.284404   1.069246      1793.0  1.604790   \n...      ...     ...       ...       ...        ...         ...       ...   \n37132  37132  3.3438      50.0  4.936508   1.079365      1775.0  3.022222   \n37133  37133  3.7308      26.0  5.087533   0.966019      1006.0  4.316901   \n37134  37134  4.1716      52.0  4.678862   1.101485      1156.0  1.431734   \n37135  37135  2.7143      16.0  5.710074   1.068376       584.0  2.803659   \n37136  37136  2.2419      34.0  5.424419   1.058685      1340.0  3.799065   \n\n       Latitude  Longitude  MedHouseVal  \n0         34.60    -120.12        0.980  \n1         38.69    -121.22        0.946  \n2         34.71    -120.45        1.576  \n3         32.66    -117.09        1.336  \n4         37.80    -122.41        4.500  \n...         ...        ...          ...  \n37132     34.19    -118.36        1.856  \n37133     37.32    -121.86        1.588  \n37134     37.75    -122.44        3.387  \n37135     38.40    -120.98        1.592  \n37136     36.34    -119.64        0.652  \n\n[37137 rows x 10 columns]",
      "text/html": "<div>\n<style scoped>\n    .dataframe tbody tr th:only-of-type {\n        vertical-align: middle;\n    }\n\n    .dataframe tbody tr th {\n        vertical-align: top;\n    }\n\n    .dataframe thead th {\n        text-align: right;\n    }\n</style>\n<table border=\"1\" class=\"dataframe\">\n  <thead>\n    <tr style=\"text-align: right;\">\n      <th></th>\n      <th>id</th>\n      <th>MedInc</th>\n      <th>HouseAge</th>\n      <th>AveRooms</th>\n      <th>AveBedrms</th>\n      <th>Population</th>\n      <th>AveOccup</th>\n      <th>Latitude</th>\n      <th>Longitude</th>\n      <th>MedHouseVal</th>\n    </tr>\n  </thead>\n  <tbody>\n    <tr>\n      <th>0</th>\n      <td>0</td>\n      <td>2.3859</td>\n      <td>15.0</td>\n      <td>3.827160</td>\n      <td>1.112100</td>\n      <td>1280.0</td>\n      <td>2.486989</td>\n      <td>34.60</td>\n      <td>-120.12</td>\n      <td>0.980</td>\n    </tr>\n    <tr>\n      <th>1</th>\n      <td>1</td>\n      <td>3.7188</td>\n      <td>17.0</td>\n      <td>6.013373</td>\n      <td>1.054217</td>\n      <td>1504.0</td>\n      <td>3.813084</td>\n      <td>38.69</td>\n      <td>-121.22</td>\n      <td>0.946</td>\n    </tr>\n    <tr>\n      <th>2</th>\n      <td>2</td>\n      <td>4.7750</td>\n      <td>27.0</td>\n      <td>6.535604</td>\n      <td>1.103175</td>\n      <td>1061.0</td>\n      <td>2.464602</td>\n      <td>34.71</td>\n      <td>-120.45</td>\n      <td>1.576</td>\n    </tr>\n    <tr>\n      <th>3</th>\n      <td>3</td>\n      <td>2.4138</td>\n      <td>16.0</td>\n      <td>3.350203</td>\n      <td>0.965432</td>\n      <td>1255.0</td>\n      <td>2.089286</td>\n      <td>32.66</td>\n      <td>-117.09</td>\n      <td>1.336</td>\n    </tr>\n    <tr>\n      <th>4</th>\n      <td>4</td>\n      <td>3.7500</td>\n      <td>52.0</td>\n      <td>4.284404</td>\n      <td>1.069246</td>\n      <td>1793.0</td>\n      <td>1.604790</td>\n      <td>37.80</td>\n      <td>-122.41</td>\n      <td>4.500</td>\n    </tr>\n    <tr>\n      <th>...</th>\n      <td>...</td>\n      <td>...</td>\n      <td>...</td>\n      <td>...</td>\n      <td>...</td>\n      <td>...</td>\n      <td>...</td>\n      <td>...</td>\n      <td>...</td>\n      <td>...</td>\n    </tr>\n    <tr>\n      <th>37132</th>\n      <td>37132</td>\n      <td>3.3438</td>\n      <td>50.0</td>\n      <td>4.936508</td>\n      <td>1.079365</td>\n      <td>1775.0</td>\n      <td>3.022222</td>\n      <td>34.19</td>\n      <td>-118.36</td>\n      <td>1.856</td>\n    </tr>\n    <tr>\n      <th>37133</th>\n      <td>37133</td>\n      <td>3.7308</td>\n      <td>26.0</td>\n      <td>5.087533</td>\n      <td>0.966019</td>\n      <td>1006.0</td>\n      <td>4.316901</td>\n      <td>37.32</td>\n      <td>-121.86</td>\n      <td>1.588</td>\n    </tr>\n    <tr>\n      <th>37134</th>\n      <td>37134</td>\n      <td>4.1716</td>\n      <td>52.0</td>\n      <td>4.678862</td>\n      <td>1.101485</td>\n      <td>1156.0</td>\n      <td>1.431734</td>\n      <td>37.75</td>\n      <td>-122.44</td>\n      <td>3.387</td>\n    </tr>\n    <tr>\n      <th>37135</th>\n      <td>37135</td>\n      <td>2.7143</td>\n      <td>16.0</td>\n      <td>5.710074</td>\n      <td>1.068376</td>\n      <td>584.0</td>\n      <td>2.803659</td>\n      <td>38.40</td>\n      <td>-120.98</td>\n      <td>1.592</td>\n    </tr>\n    <tr>\n      <th>37136</th>\n      <td>37136</td>\n      <td>2.2419</td>\n      <td>34.0</td>\n      <td>5.424419</td>\n      <td>1.058685</td>\n      <td>1340.0</td>\n      <td>3.799065</td>\n      <td>36.34</td>\n      <td>-119.64</td>\n      <td>0.652</td>\n    </tr>\n  </tbody>\n</table>\n<p>37137 rows × 10 columns</p>\n</div>"
     },
     "execution_count": 20,
     "metadata": {},
     "output_type": "execute_result"
    }
   ],
   "source": [
    "available_data"
   ]
  },
  {
   "cell_type": "markdown",
   "source": [
    "# LightGBM Trial"
   ],
   "metadata": {
    "collapsed": false
   }
  },
  {
   "cell_type": "code",
   "execution_count": 21,
   "outputs": [
    {
     "data": {
      "text/plain": "id             0\nMedInc         0\nHouseAge       0\nAveRooms       0\nAveBedrms      0\nPopulation     0\nAveOccup       0\nLatitude       0\nLongitude      0\nMedHouseVal    0\ndtype: int64"
     },
     "execution_count": 21,
     "metadata": {},
     "output_type": "execute_result"
    }
   ],
   "source": [
    "available_data.isnull().sum()"
   ],
   "metadata": {
    "collapsed": false
   }
  },
  {
   "cell_type": "code",
   "execution_count": 38,
   "outputs": [],
   "source": [
    "class Data:\n",
    "    def __init__(self, data_type: str = 'train'):\n",
    "        self.data_type = data_type\n",
    "        self.data = pd.read_csv('train.csv', index_col=0) if data_type == 'train' else pd.read_csv('test.csv',\n",
    "                                                                                                   index_col=0)\n",
    "\n",
    "    @staticmethod\n",
    "    def get_train_test_split(test_size: float = 0.3, random_state: int = 42):\n",
    "        X = pd.read_csv('train.csv', index_col=0).drop('MedHouseVal', axis=1)\n",
    "        y = pd.read_csv('train.csv', index_col=0)['MedHouseVal']\n",
    "        x_train, x_test, y_train, y_test = train_test_split(X, y, test_size=test_size, random_state=random_state)\n",
    "        return x_train, x_test, y_train, y_test"
   ],
   "metadata": {
    "collapsed": false
   }
  },
  {
   "cell_type": "code",
   "execution_count": 39,
   "outputs": [],
   "source": [
    "data = Data('train')\n",
    "x_train, x_test, y_train, y_test = data.get_train_test_split()"
   ],
   "metadata": {
    "collapsed": false
   }
  },
  {
   "cell_type": "code",
   "execution_count": 55,
   "outputs": [
    {
     "name": "stdout",
     "output_type": "stream",
     "text": [
      "开始训练...\n",
      "[LightGBM] [Warning] Auto-choosing col-wise multi-threading, the overhead of testing was 0.001988 seconds.\n",
      "You can set `force_col_wise=true` to remove the overhead.\n",
      "[1]\tvalid_0's l2: 1.18907\tvalid_0's auc: 1\n",
      "Training until validation scores don't improve for 5 rounds\n",
      "[2]\tvalid_0's l2: 1.06805\tvalid_0's auc: 1\n",
      "[3]\tvalid_0's l2: 0.954586\tvalid_0's auc: 1\n",
      "[4]\tvalid_0's l2: 0.872976\tvalid_0's auc: 1\n",
      "[5]\tvalid_0's l2: 0.794956\tvalid_0's auc: 1\n",
      "[6]\tvalid_0's l2: 0.729541\tvalid_0's auc: 1\n",
      "Early stopping, best iteration is:\n",
      "[1]\tvalid_0's l2: 1.18907\tvalid_0's auc: 1\n",
      "保存模型...\n",
      "开始预测...\n",
      "预估结果的rmse为:\n",
      "1.0904448638144022\n"
     ]
    }
   ],
   "source": [
    "lgb_train = lgb.Dataset(x_train, y_train)\n",
    "lgb_eval = lgb.Dataset(x_test, y_test, reference=lgb_train)\n",
    "\n",
    "params = {\n",
    "    'task': 'train',\n",
    "    'boosting_type': 'gbdt',\n",
    "    'objective': 'regression',\n",
    "    'metric': {'l2', 'auc'},\n",
    "    'num_leaves': 30,\n",
    "    'learning_rate': 0.1,\n",
    "    'feature_fraction': 0.9,\n",
    "    'bagging_fraction': 0.8,\n",
    "    'bagging_freq': 5,\n",
    "    'verbose': 0\n",
    "}\n",
    "\n",
    "print('开始训练...')\n",
    "\n",
    "gbm = lgb.train(params,\n",
    "                lgb_train,\n",
    "                num_boost_round=30,\n",
    "                valid_sets=lgb_eval,\n",
    "                early_stopping_rounds=5)\n",
    "\n",
    "print('保存模型...')\n",
    "gbm.save_model('lgb_model.txt')\n",
    "\n",
    "print('开始预测...')\n",
    "y_pred = gbm.predict(x_test, num_iteration=gbm.best_iteration)\n",
    "\n",
    "print('预估结果的rmse为:')\n",
    "print(mean_squared_error(y_test, y_pred) ** 0.5)"
   ],
   "metadata": {
    "collapsed": false
   }
  },
  {
   "cell_type": "code",
   "execution_count": null,
   "outputs": [],
   "source": [],
   "metadata": {
    "collapsed": false
   }
  }
 ],
 "metadata": {
  "kernelspec": {
   "display_name": "Python 3 (ipykernel)",
   "language": "python",
   "name": "python3"
  },
  "language_info": {
   "codemirror_mode": {
    "name": "ipython",
    "version": 3
   },
   "file_extension": ".py",
   "mimetype": "text/x-python",
   "name": "python",
   "nbconvert_exporter": "python",
   "pygments_lexer": "ipython3",
   "version": "3.9.12"
  },
  "latex_envs": {
   "LaTeX_envs_menu_present": true,
   "autoclose": false,
   "autocomplete": true,
   "bibliofile": "biblio.bib",
   "cite_by": "apalike",
   "current_citInitial": 1,
   "eqLabelWithNumbers": true,
   "eqNumInitial": 1,
   "hotkeys": {
    "equation": "Ctrl-E",
    "itemize": "Ctrl-I"
   },
   "labels_anchors": false,
   "latex_user_defs": false,
   "report_style_numbering": false,
   "user_envs_cfg": false
  },
  "toc": {
   "base_numbering": 1,
   "nav_menu": {},
   "number_sections": true,
   "sideBar": true,
   "skip_h1_title": false,
   "title_cell": "Table of Contents",
   "title_sidebar": "Contents",
   "toc_cell": false,
   "toc_position": {},
   "toc_section_display": true,
   "toc_window_display": false
  }
 },
 "nbformat": 4,
 "nbformat_minor": 1
}
