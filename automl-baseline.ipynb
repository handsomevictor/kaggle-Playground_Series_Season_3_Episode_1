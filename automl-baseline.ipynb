{
 "cells": [
  {
   "cell_type": "markdown",
   "id": "55d502fe",
   "metadata": {
    "papermill": {
     "duration": 0.005666,
     "end_time": "2023-01-07T12:17:58.566774",
     "exception": false,
     "start_time": "2023-01-07T12:17:58.561108",
     "status": "completed"
    },
    "tags": []
   },
   "source": [
    "## Simple H2O AutoML Baseline:\n",
    "\n",
    "* Add original data\n",
    "* Add location with reverse geocoder\n",
    "* Run AutoML\n"
   ]
  },
  {
   "cell_type": "code",
   "execution_count": 1,
   "id": "b32a4b0b",
   "metadata": {
    "execution": {
     "iopub.execute_input": "2023-01-07T12:17:58.577471Z",
     "iopub.status.busy": "2023-01-07T12:17:58.577030Z",
     "iopub.status.idle": "2023-01-07T12:17:59.813027Z",
     "shell.execute_reply": "2023-01-07T12:17:59.811394Z"
    },
    "papermill": {
     "duration": 1.24505,
     "end_time": "2023-01-07T12:17:59.816320",
     "exception": false,
     "start_time": "2023-01-07T12:17:58.571270",
     "status": "completed"
    },
    "tags": []
   },
   "outputs": [],
   "source": [
    "import pandas as pd\n",
    "import h2o        \n",
    "from h2o.automl import H2OAutoML\n",
    "from sklearn.datasets import fetch_california_housing"
   ]
  },
  {
   "cell_type": "code",
   "execution_count": 2,
   "id": "8e983a57",
   "metadata": {
    "execution": {
     "iopub.execute_input": "2023-01-07T12:17:59.829175Z",
     "iopub.status.busy": "2023-01-07T12:17:59.828637Z",
     "iopub.status.idle": "2023-01-07T12:18:00.029204Z",
     "shell.execute_reply": "2023-01-07T12:18:00.028263Z"
    },
    "papermill": {
     "duration": 0.210728,
     "end_time": "2023-01-07T12:18:00.031691",
     "exception": false,
     "start_time": "2023-01-07T12:17:59.820963",
     "status": "completed"
    },
    "tags": []
   },
   "outputs": [],
   "source": [
    "path = \"/kaggle/input/playground-series-s3e1/\"\n",
    "train_df = pd.read_csv(path+\"train.csv\")\n",
    "test_df = pd.read_csv(path+\"test.csv\")\n",
    "sub = pd.read_csv(path+\"sample_submission.csv\")"
   ]
  },
  {
   "cell_type": "markdown",
   "id": "eb1acc0e",
   "metadata": {
    "papermill": {
     "duration": 0.006287,
     "end_time": "2023-01-07T12:18:00.044275",
     "exception": false,
     "start_time": "2023-01-07T12:18:00.037988",
     "status": "completed"
    },
    "tags": []
   },
   "source": [
    "### Data preparation"
   ]
  },
  {
   "cell_type": "code",
   "execution_count": 3,
   "id": "201b4f64",
   "metadata": {
    "execution": {
     "iopub.execute_input": "2023-01-07T12:18:00.054724Z",
     "iopub.status.busy": "2023-01-07T12:18:00.054318Z",
     "iopub.status.idle": "2023-01-07T12:18:01.783022Z",
     "shell.execute_reply": "2023-01-07T12:18:01.781834Z"
    },
    "papermill": {
     "duration": 1.736983,
     "end_time": "2023-01-07T12:18:01.785632",
     "exception": false,
     "start_time": "2023-01-07T12:18:00.048649",
     "status": "completed"
    },
    "tags": []
   },
   "outputs": [],
   "source": [
    "external_data = fetch_california_housing()\n",
    "train2 = pd.DataFrame(external_data['data'])\n",
    "train2['target'] = external_data['target']\n",
    "train2.columns = train_df.columns[1:]\n",
    "train_df = pd.concat([train_df,train2]).drop_duplicates()"
   ]
  },
  {
   "cell_type": "code",
   "execution_count": 4,
   "id": "aab40004",
   "metadata": {
    "execution": {
     "iopub.execute_input": "2023-01-07T12:18:01.795819Z",
     "iopub.status.busy": "2023-01-07T12:18:01.795411Z",
     "iopub.status.idle": "2023-01-07T12:18:16.682782Z",
     "shell.execute_reply": "2023-01-07T12:18:16.681557Z"
    },
    "papermill": {
     "duration": 14.895451,
     "end_time": "2023-01-07T12:18:16.685537",
     "exception": false,
     "start_time": "2023-01-07T12:18:01.790086",
     "status": "completed"
    },
    "tags": []
   },
   "outputs": [
    {
     "name": "stdout",
     "output_type": "stream",
     "text": [
      "Collecting reverse_geocoder\r\n",
      "  Downloading reverse_geocoder-1.5.1.tar.gz (2.2 MB)\r\n",
      "\u001b[2K     \u001b[90m━━━━━━━━━━━━━━━━━━━━━━━━━━━━━━━━━━━━━━━━\u001b[0m \u001b[32m2.2/2.2 MB\u001b[0m \u001b[31m24.0 MB/s\u001b[0m eta \u001b[36m0:00:00\u001b[0m\r\n",
      "\u001b[?25h  Preparing metadata (setup.py) ... \u001b[?25l-\b \bdone\r\n",
      "\u001b[?25hRequirement already satisfied: numpy>=1.11.0 in /opt/conda/lib/python3.7/site-packages (from reverse_geocoder) (1.21.6)\r\n",
      "Requirement already satisfied: scipy>=0.17.1 in /opt/conda/lib/python3.7/site-packages (from reverse_geocoder) (1.7.3)\r\n",
      "Building wheels for collected packages: reverse_geocoder\r\n",
      "  Building wheel for reverse_geocoder (setup.py) ... \u001b[?25l-\b \b\\\b \bdone\r\n",
      "\u001b[?25h  Created wheel for reverse_geocoder: filename=reverse_geocoder-1.5.1-py3-none-any.whl size=2268088 sha256=f1deed62f4f052c1ffaa436d631379d2ef4e9f199d3742a4f25ed1b1ec91857b\r\n",
      "  Stored in directory: /root/.cache/pip/wheels/34/6e/70/5423639428a2cac8ea7eb467214a4254b549b381f306a9c790\r\n",
      "Successfully built reverse_geocoder\r\n",
      "Installing collected packages: reverse_geocoder\r\n",
      "Successfully installed reverse_geocoder-1.5.1\r\n",
      "\u001b[33mWARNING: Running pip as the 'root' user can result in broken permissions and conflicting behaviour with the system package manager. It is recommended to use a virtual environment instead: https://pip.pypa.io/warnings/venv\u001b[0m\u001b[33m\r\n",
      "\u001b[0m"
     ]
    }
   ],
   "source": [
    "!pip install reverse_geocoder"
   ]
  },
  {
   "cell_type": "code",
   "execution_count": 5,
   "id": "a5fddb0c",
   "metadata": {
    "execution": {
     "iopub.execute_input": "2023-01-07T12:18:16.698613Z",
     "iopub.status.busy": "2023-01-07T12:18:16.698224Z",
     "iopub.status.idle": "2023-01-07T12:18:18.455906Z",
     "shell.execute_reply": "2023-01-07T12:18:18.454603Z"
    },
    "papermill": {
     "duration": 1.767573,
     "end_time": "2023-01-07T12:18:18.458611",
     "exception": false,
     "start_time": "2023-01-07T12:18:16.691038",
     "status": "completed"
    },
    "tags": []
   },
   "outputs": [
    {
     "name": "stdout",
     "output_type": "stream",
     "text": [
      "Loading formatted geocoded file...\n"
     ]
    }
   ],
   "source": [
    "import reverse_geocoder as rg\n",
    "\n",
    "for df in [train_df,test_df]:\n",
    "    coordinates = list(zip(df['Latitude'], df['Longitude']))\n",
    "    results = rg.search(coordinates)\n",
    "    df['county'] = [x['admin2'] for x in results]\n",
    "    df['place'] = [x['name'] for x in results]"
   ]
  },
  {
   "cell_type": "markdown",
   "id": "08ab594d",
   "metadata": {
    "papermill": {
     "duration": 0.004939,
     "end_time": "2023-01-07T12:18:18.468974",
     "exception": false,
     "start_time": "2023-01-07T12:18:18.464035",
     "status": "completed"
    },
    "tags": []
   },
   "source": [
    "### Auto ML"
   ]
  },
  {
   "cell_type": "code",
   "execution_count": 6,
   "id": "e13b4750",
   "metadata": {
    "execution": {
     "iopub.execute_input": "2023-01-07T12:18:18.481946Z",
     "iopub.status.busy": "2023-01-07T12:18:18.481072Z",
     "iopub.status.idle": "2023-01-07T12:18:25.672426Z",
     "shell.execute_reply": "2023-01-07T12:18:25.670394Z"
    },
    "papermill": {
     "duration": 7.200907,
     "end_time": "2023-01-07T12:18:25.675116",
     "exception": false,
     "start_time": "2023-01-07T12:18:18.474209",
     "status": "completed"
    },
    "tags": []
   },
   "outputs": [
    {
     "name": "stdout",
     "output_type": "stream",
     "text": [
      "Checking whether there is an H2O instance running at http://localhost:54321 ..... not found.\n",
      "Attempting to start a local H2O server...\n",
      "  Java Version: openjdk version \"11.0.17\" 2022-10-18; OpenJDK Runtime Environment (build 11.0.17+8-post-Ubuntu-1ubuntu220.04); OpenJDK 64-Bit Server VM (build 11.0.17+8-post-Ubuntu-1ubuntu220.04, mixed mode, sharing)\n",
      "  Starting server from /opt/conda/lib/python3.7/site-packages/h2o/backend/bin/h2o.jar\n",
      "  Ice root: /tmp/tmpbob0jwiq\n",
      "  JVM stdout: /tmp/tmpbob0jwiq/h2o_unknownUser_started_from_python.out\n",
      "  JVM stderr: /tmp/tmpbob0jwiq/h2o_unknownUser_started_from_python.err\n",
      "  Server is running at http://127.0.0.1:54321\n",
      "Connecting to H2O server at http://127.0.0.1:54321 ... successful.\n"
     ]
    },
    {
     "data": {
      "text/html": [
       "\n",
       "<style>\n",
       "\n",
       "#h2o-table-1.h2o-container {\n",
       "  overflow-x: auto;\n",
       "}\n",
       "#h2o-table-1 .h2o-table {\n",
       "  /* width: 100%; */\n",
       "  margin-top: 1em;\n",
       "  margin-bottom: 1em;\n",
       "}\n",
       "#h2o-table-1 .h2o-table caption {\n",
       "  white-space: nowrap;\n",
       "  caption-side: top;\n",
       "  text-align: left;\n",
       "  /* margin-left: 1em; */\n",
       "  margin: 0;\n",
       "  font-size: larger;\n",
       "}\n",
       "#h2o-table-1 .h2o-table thead {\n",
       "  white-space: nowrap; \n",
       "  position: sticky;\n",
       "  top: 0;\n",
       "  box-shadow: 0 -1px inset;\n",
       "}\n",
       "#h2o-table-1 .h2o-table tbody {\n",
       "  overflow: auto;\n",
       "}\n",
       "#h2o-table-1 .h2o-table th,\n",
       "#h2o-table-1 .h2o-table td {\n",
       "  text-align: right;\n",
       "  /* border: 1px solid; */\n",
       "}\n",
       "#h2o-table-1 .h2o-table tr:nth-child(even) {\n",
       "  /* background: #F5F5F5 */\n",
       "}\n",
       "\n",
       "</style>      \n",
       "<div id=\"h2o-table-1\" class=\"h2o-container\">\n",
       "  <table class=\"h2o-table\">\n",
       "    <caption></caption>\n",
       "    <thead></thead>\n",
       "    <tbody><tr><td>H2O_cluster_uptime:</td>\n",
       "<td>02 secs</td></tr>\n",
       "<tr><td>H2O_cluster_timezone:</td>\n",
       "<td>Etc/UTC</td></tr>\n",
       "<tr><td>H2O_data_parsing_timezone:</td>\n",
       "<td>UTC</td></tr>\n",
       "<tr><td>H2O_cluster_version:</td>\n",
       "<td>3.38.0.3</td></tr>\n",
       "<tr><td>H2O_cluster_version_age:</td>\n",
       "<td>1 month and 14 days </td></tr>\n",
       "<tr><td>H2O_cluster_name:</td>\n",
       "<td>H2O_from_python_unknownUser_fyczla</td></tr>\n",
       "<tr><td>H2O_cluster_total_nodes:</td>\n",
       "<td>1</td></tr>\n",
       "<tr><td>H2O_cluster_free_memory:</td>\n",
       "<td>7.500 Gb</td></tr>\n",
       "<tr><td>H2O_cluster_total_cores:</td>\n",
       "<td>4</td></tr>\n",
       "<tr><td>H2O_cluster_allowed_cores:</td>\n",
       "<td>4</td></tr>\n",
       "<tr><td>H2O_cluster_status:</td>\n",
       "<td>locked, healthy</td></tr>\n",
       "<tr><td>H2O_connection_url:</td>\n",
       "<td>http://127.0.0.1:54321</td></tr>\n",
       "<tr><td>H2O_connection_proxy:</td>\n",
       "<td>{\"http\": null, \"https\": null}</td></tr>\n",
       "<tr><td>H2O_internal_security:</td>\n",
       "<td>False</td></tr>\n",
       "<tr><td>Python_version:</td>\n",
       "<td>3.7.12 final</td></tr></tbody>\n",
       "  </table>\n",
       "</div>\n"
      ],
      "text/plain": [
       "--------------------------  ----------------------------------\n",
       "H2O_cluster_uptime:         02 secs\n",
       "H2O_cluster_timezone:       Etc/UTC\n",
       "H2O_data_parsing_timezone:  UTC\n",
       "H2O_cluster_version:        3.38.0.3\n",
       "H2O_cluster_version_age:    1 month and 14 days\n",
       "H2O_cluster_name:           H2O_from_python_unknownUser_fyczla\n",
       "H2O_cluster_total_nodes:    1\n",
       "H2O_cluster_free_memory:    7.500 Gb\n",
       "H2O_cluster_total_cores:    4\n",
       "H2O_cluster_allowed_cores:  4\n",
       "H2O_cluster_status:         locked, healthy\n",
       "H2O_connection_url:         http://127.0.0.1:54321\n",
       "H2O_connection_proxy:       {\"http\": null, \"https\": null}\n",
       "H2O_internal_security:      False\n",
       "Python_version:             3.7.12 final\n",
       "--------------------------  ----------------------------------"
      ]
     },
     "metadata": {},
     "output_type": "display_data"
    }
   ],
   "source": [
    "h2o.init()"
   ]
  },
  {
   "cell_type": "code",
   "execution_count": 7,
   "id": "d28cf508",
   "metadata": {
    "execution": {
     "iopub.execute_input": "2023-01-07T12:18:25.690053Z",
     "iopub.status.busy": "2023-01-07T12:18:25.689285Z",
     "iopub.status.idle": "2023-01-07T12:18:30.650061Z",
     "shell.execute_reply": "2023-01-07T12:18:30.648791Z"
    },
    "papermill": {
     "duration": 4.972261,
     "end_time": "2023-01-07T12:18:30.653650",
     "exception": false,
     "start_time": "2023-01-07T12:18:25.681389",
     "status": "completed"
    },
    "tags": []
   },
   "outputs": [
    {
     "name": "stdout",
     "output_type": "stream",
     "text": [
      "Parse progress: |████████████████████████████████████████████████████████████████| (done) 100%\n",
      "Parse progress: |████████████████████████████████████████████████████████████████| (done) 100%\n"
     ]
    }
   ],
   "source": [
    "train_h2o = h2o.H2OFrame(train_df)\n",
    "test_h2o = h2o.H2OFrame(test_df)"
   ]
  },
  {
   "cell_type": "code",
   "execution_count": 8,
   "id": "d15dc64f",
   "metadata": {
    "execution": {
     "iopub.execute_input": "2023-01-07T12:18:30.674467Z",
     "iopub.status.busy": "2023-01-07T12:18:30.673959Z",
     "iopub.status.idle": "2023-01-07T13:41:53.304730Z",
     "shell.execute_reply": "2023-01-07T13:41:53.303166Z"
    },
    "papermill": {
     "duration": 5002.645075,
     "end_time": "2023-01-07T13:41:53.308269",
     "exception": false,
     "start_time": "2023-01-07T12:18:30.663194",
     "status": "completed"
    },
    "tags": []
   },
   "outputs": [
    {
     "name": "stdout",
     "output_type": "stream",
     "text": [
      "AutoML progress: |███████████████████████████████████████████████████████████████| (done) 100%\n"
     ]
    }
   ],
   "source": [
    "target = 'MedHouseVal'\n",
    "features = train_df.columns.drop([target,'id','Population']).to_list()\n",
    "\n",
    "aml = H2OAutoML(max_runtime_secs=5000, seed=11,nfolds=10)\n",
    "aml.train(x=features, y=target, training_frame=train_h2o);"
   ]
  },
  {
   "cell_type": "code",
   "execution_count": 9,
   "id": "7525ceb6",
   "metadata": {
    "execution": {
     "iopub.execute_input": "2023-01-07T13:41:53.343835Z",
     "iopub.status.busy": "2023-01-07T13:41:53.342448Z",
     "iopub.status.idle": "2023-01-07T13:41:53.365760Z",
     "shell.execute_reply": "2023-01-07T13:41:53.364593Z"
    },
    "papermill": {
     "duration": 0.043897,
     "end_time": "2023-01-07T13:41:53.368724",
     "exception": false,
     "start_time": "2023-01-07T13:41:53.324827",
     "status": "completed"
    },
    "tags": []
   },
   "outputs": [
    {
     "data": {
      "text/html": [
       "<table class='dataframe'>\n",
       "<thead>\n",
       "<tr><th>model_id                                               </th><th style=\"text-align: right;\">    rmse</th><th style=\"text-align: right;\">     mse</th><th style=\"text-align: right;\">     mae</th><th style=\"text-align: right;\">   rmsle</th><th style=\"text-align: right;\">  mean_residual_deviance</th></tr>\n",
       "</thead>\n",
       "<tbody>\n",
       "<tr><td>StackedEnsemble_AllModels_3_AutoML_1_20230107_121830   </td><td style=\"text-align: right;\">0.515676</td><td style=\"text-align: right;\">0.265922</td><td style=\"text-align: right;\">0.35146 </td><td style=\"text-align: right;\">0.154283</td><td style=\"text-align: right;\">                0.265922</td></tr>\n",
       "<tr><td>StackedEnsemble_AllModels_4_AutoML_1_20230107_121830   </td><td style=\"text-align: right;\">0.515692</td><td style=\"text-align: right;\">0.265939</td><td style=\"text-align: right;\">0.351465</td><td style=\"text-align: right;\">0.154282</td><td style=\"text-align: right;\">                0.265939</td></tr>\n",
       "<tr><td>StackedEnsemble_BestOfFamily_4_AutoML_1_20230107_121830</td><td style=\"text-align: right;\">0.517515</td><td style=\"text-align: right;\">0.267822</td><td style=\"text-align: right;\">0.35315 </td><td style=\"text-align: right;\">0.154899</td><td style=\"text-align: right;\">                0.267822</td></tr>\n",
       "<tr><td>StackedEnsemble_BestOfFamily_5_AutoML_1_20230107_121830</td><td style=\"text-align: right;\">0.517825</td><td style=\"text-align: right;\">0.268142</td><td style=\"text-align: right;\">0.354593</td><td style=\"text-align: right;\">0.154907</td><td style=\"text-align: right;\">                0.268142</td></tr>\n",
       "<tr><td>StackedEnsemble_AllModels_2_AutoML_1_20230107_121830   </td><td style=\"text-align: right;\">0.519649</td><td style=\"text-align: right;\">0.270035</td><td style=\"text-align: right;\">0.353981</td><td style=\"text-align: right;\">0.155285</td><td style=\"text-align: right;\">                0.270035</td></tr>\n",
       "<tr><td>StackedEnsemble_AllModels_1_AutoML_1_20230107_121830   </td><td style=\"text-align: right;\">0.519722</td><td style=\"text-align: right;\">0.270111</td><td style=\"text-align: right;\">0.354096</td><td style=\"text-align: right;\">0.155322</td><td style=\"text-align: right;\">                0.270111</td></tr>\n",
       "<tr><td>StackedEnsemble_BestOfFamily_3_AutoML_1_20230107_121830</td><td style=\"text-align: right;\">0.521552</td><td style=\"text-align: right;\">0.272017</td><td style=\"text-align: right;\">0.355132</td><td style=\"text-align: right;\">0.155727</td><td style=\"text-align: right;\">                0.272017</td></tr>\n",
       "<tr><td>StackedEnsemble_BestOfFamily_2_AutoML_1_20230107_121830</td><td style=\"text-align: right;\">0.521619</td><td style=\"text-align: right;\">0.272086</td><td style=\"text-align: right;\">0.355429</td><td style=\"text-align: right;\">0.155745</td><td style=\"text-align: right;\">                0.272086</td></tr>\n",
       "<tr><td>StackedEnsemble_BestOfFamily_1_AutoML_1_20230107_121830</td><td style=\"text-align: right;\">0.52334 </td><td style=\"text-align: right;\">0.273885</td><td style=\"text-align: right;\">0.357242</td><td style=\"text-align: right;\">0.156372</td><td style=\"text-align: right;\">                0.273885</td></tr>\n",
       "<tr><td>GBM_grid_1_AutoML_1_20230107_121830_model_21           </td><td style=\"text-align: right;\">0.524782</td><td style=\"text-align: right;\">0.275396</td><td style=\"text-align: right;\">0.359655</td><td style=\"text-align: right;\">0.157262</td><td style=\"text-align: right;\">                0.275396</td></tr>\n",
       "</tbody>\n",
       "</table><pre style='font-size: smaller; margin-bottom: 1em;'>[70 rows x 6 columns]</pre>"
      ],
      "text/plain": [
       "model_id                                                     rmse       mse       mae     rmsle    mean_residual_deviance\n",
       "-------------------------------------------------------  --------  --------  --------  --------  ------------------------\n",
       "StackedEnsemble_AllModels_3_AutoML_1_20230107_121830     0.515676  0.265922  0.35146   0.154283                  0.265922\n",
       "StackedEnsemble_AllModels_4_AutoML_1_20230107_121830     0.515692  0.265939  0.351465  0.154282                  0.265939\n",
       "StackedEnsemble_BestOfFamily_4_AutoML_1_20230107_121830  0.517515  0.267822  0.35315   0.154899                  0.267822\n",
       "StackedEnsemble_BestOfFamily_5_AutoML_1_20230107_121830  0.517825  0.268142  0.354593  0.154907                  0.268142\n",
       "StackedEnsemble_AllModels_2_AutoML_1_20230107_121830     0.519649  0.270035  0.353981  0.155285                  0.270035\n",
       "StackedEnsemble_AllModels_1_AutoML_1_20230107_121830     0.519722  0.270111  0.354096  0.155322                  0.270111\n",
       "StackedEnsemble_BestOfFamily_3_AutoML_1_20230107_121830  0.521552  0.272017  0.355132  0.155727                  0.272017\n",
       "StackedEnsemble_BestOfFamily_2_AutoML_1_20230107_121830  0.521619  0.272086  0.355429  0.155745                  0.272086\n",
       "StackedEnsemble_BestOfFamily_1_AutoML_1_20230107_121830  0.52334   0.273885  0.357242  0.156372                  0.273885\n",
       "GBM_grid_1_AutoML_1_20230107_121830_model_21             0.524782  0.275396  0.359655  0.157262                  0.275396\n",
       "[70 rows x 6 columns]\n"
      ]
     },
     "execution_count": 9,
     "metadata": {},
     "output_type": "execute_result"
    }
   ],
   "source": [
    "aml.leaderboard"
   ]
  },
  {
   "cell_type": "code",
   "execution_count": 10,
   "id": "c0cd0e0d",
   "metadata": {
    "execution": {
     "iopub.execute_input": "2023-01-07T13:41:53.402922Z",
     "iopub.status.busy": "2023-01-07T13:41:53.401866Z",
     "iopub.status.idle": "2023-01-07T13:42:04.717881Z",
     "shell.execute_reply": "2023-01-07T13:42:04.716712Z"
    },
    "papermill": {
     "duration": 11.336025,
     "end_time": "2023-01-07T13:42:04.720020",
     "exception": false,
     "start_time": "2023-01-07T13:41:53.383995",
     "status": "completed"
    },
    "tags": []
   },
   "outputs": [
    {
     "data": {
      "text/html": [
       "<h1>Residual Analysis</h1>"
      ],
      "text/markdown": [
       "\n",
       "\n",
       "# Residual Analysis"
      ],
      "text/plain": [
       "\n",
       "\n",
       "# Residual Analysis"
      ]
     },
     "metadata": {},
     "output_type": "display_data"
    },
    {
     "data": {
      "text/html": [
       "<blockquote>Residual Analysis plots the fitted values vs residuals on a test dataset. Ideally, residuals should be randomly distributed. Patterns in this plot can indicate potential problems with the model selection, e.g., using simpler model than necessary, not accounting for heteroscedasticity, autocorrelation, etc. Note that if you see \"striped\" lines of residuals, that is an artifact of having an integer valued (vs a real valued) response variable.</blockquote>"
      ],
      "text/markdown": [
       "\n",
       "> Residual Analysis plots the fitted values vs residuals on a test dataset. Ideally, residuals should be randomly distributed. Patterns in this plot can indicate potential problems with the model selection, e.g., using simpler model than necessary, not accounting for heteroscedasticity, autocorrelation, etc. Note that if you see \"striped\" lines of residuals, that is an artifact of having an integer valued (vs a real valued) response variable."
      ],
      "text/plain": [
       "\n",
       "> Residual Analysis plots the fitted values vs residuals on a test dataset. Ideally, residuals should be randomly distributed. Patterns in this plot can indicate potential problems with the model selection, e.g., using simpler model than necessary, not accounting for heteroscedasticity, autocorrelation, etc. Note that if you see \"striped\" lines of residuals, that is an artifact of having an integer valued (vs a real valued) response variable."
      ]
     },
     "metadata": {},
     "output_type": "display_data"
    },
    {
     "data": {
      "image/png": "[encoded data removed]",
      "text/plain": [
       "<Figure size 1152x648 with 1 Axes>"
      ]
     },
     "metadata": {
      "needs_background": "light"
     },
     "output_type": "display_data"
    },
    {
     "name": "stdout",
     "output_type": "stream",
     "text": [
      "\n",
      "\n"
     ]
    },
    {
     "data": {
      "text/html": [
       "<h1>Residual Analysis</h1>"
      ],
      "text/markdown": [
       "\n",
       "\n",
       "# Residual Analysis"
      ],
      "text/plain": [
       "\n",
       "\n",
       "# Residual Analysis"
      ]
     },
     "metadata": {},
     "output_type": "display_data"
    },
    {
     "data": {
      "text/html": [
       "<blockquote>Residual Analysis plots the fitted values vs residuals on a test dataset. Ideally, residuals should be randomly distributed. Patterns in this plot can indicate potential problems with the model selection, e.g., using simpler model than necessary, not accounting for heteroscedasticity, autocorrelation, etc. Note that if you see \"striped\" lines of residuals, that is an artifact of having an integer valued (vs a real valued) response variable.</blockquote>"
      ],
      "text/markdown": [
       "\n",
       "> Residual Analysis plots the fitted values vs residuals on a test dataset. Ideally, residuals should be randomly distributed. Patterns in this plot can indicate potential problems with the model selection, e.g., using simpler model than necessary, not accounting for heteroscedasticity, autocorrelation, etc. Note that if you see \"striped\" lines of residuals, that is an artifact of having an integer valued (vs a real valued) response variable."
      ],
      "text/plain": [
       "\n",
       "> Residual Analysis plots the fitted values vs residuals on a test dataset. Ideally, residuals should be randomly distributed. Patterns in this plot can indicate potential problems with the model selection, e.g., using simpler model than necessary, not accounting for heteroscedasticity, autocorrelation, etc. Note that if you see \"striped\" lines of residuals, that is an artifact of having an integer valued (vs a real valued) response variable."
      ]
     },
     "metadata": {},
     "output_type": "display_data"
    },
    {
     "data": {
      "text/plain": [
       "<h2o.plot._plot_result._MObject at 0x7fa3c0853490>"
      ]
     },
     "metadata": {},
     "output_type": "display_data"
    }
   ],
   "source": [
    "aml.leader.explain(train_h2o,include_explanations=['residual_analysis'])"
   ]
  },
  {
   "cell_type": "markdown",
   "id": "214e6fa2",
   "metadata": {
    "papermill": {
     "duration": 0.012305,
     "end_time": "2023-01-07T13:42:04.745480",
     "exception": false,
     "start_time": "2023-01-07T13:42:04.733175",
     "status": "completed"
    },
    "tags": []
   },
   "source": [
    "### Submission"
   ]
  },
  {
   "cell_type": "code",
   "execution_count": 11,
   "id": "ad5cd2c2",
   "metadata": {
    "execution": {
     "iopub.execute_input": "2023-01-07T13:42:04.772908Z",
     "iopub.status.busy": "2023-01-07T13:42:04.772273Z",
     "iopub.status.idle": "2023-01-07T13:42:08.703504Z",
     "shell.execute_reply": "2023-01-07T13:42:08.702689Z"
    },
    "papermill": {
     "duration": 3.951509,
     "end_time": "2023-01-07T13:42:08.709578",
     "exception": false,
     "start_time": "2023-01-07T13:42:04.758069",
     "status": "completed"
    },
    "tags": []
   },
   "outputs": [
    {
     "name": "stdout",
     "output_type": "stream",
     "text": [
      "stackedensemble prediction progress: |███████████████████████████████████████████| (done) 100%\n"
     ]
    },
    {
     "name": "stderr",
     "output_type": "stream",
     "text": [
      "/opt/conda/lib/python3.7/site-packages/h2o/job.py:83: UserWarning: Test/Validation dataset column 'county' has levels not trained on: [\"Esmeralda County\"]\n",
      "  warnings.warn(w)\n",
      "/opt/conda/lib/python3.7/site-packages/h2o/job.py:83: UserWarning: Test/Validation dataset column 'place' has levels not trained on: [\"Goldfield\", \"Yerington\"]\n",
      "  warnings.warn(w)\n"
     ]
    }
   ],
   "source": [
    "sub[target] = aml.leader.predict(test_h2o).as_data_frame()\n",
    "sub.to_csv(\"submission.csv\", index=False)"
   ]
  },
  {
   "cell_type": "code",
   "execution_count": 12,
   "id": "0a7def01",
   "metadata": {
    "execution": {
     "iopub.execute_input": "2023-01-07T13:42:08.742135Z",
     "iopub.status.busy": "2023-01-07T13:42:08.741725Z",
     "iopub.status.idle": "2023-01-07T13:42:08.767137Z",
     "shell.execute_reply": "2023-01-07T13:42:08.765831Z"
    },
    "papermill": {
     "duration": 0.042085,
     "end_time": "2023-01-07T13:42:08.769493",
     "exception": false,
     "start_time": "2023-01-07T13:42:08.727408",
     "status": "completed"
    },
    "tags": []
   },
   "outputs": [
    {
     "data": {
      "text/html": [
       "<div>\n",
       "<style scoped>\n",
       "    .dataframe tbody tr th:only-of-type {\n",
       "        vertical-align: middle;\n",
       "    }\n",
       "\n",
       "    .dataframe tbody tr th {\n",
       "        vertical-align: top;\n",
       "    }\n",
       "\n",
       "    .dataframe thead th {\n",
       "        text-align: right;\n",
       "    }\n",
       "</style>\n",
       "<table border=\"1\" class=\"dataframe\">\n",
       "  <thead>\n",
       "    <tr style=\"text-align: right;\">\n",
       "      <th></th>\n",
       "      <th>id</th>\n",
       "      <th>MedHouseVal</th>\n",
       "    </tr>\n",
       "  </thead>\n",
       "  <tbody>\n",
       "    <tr>\n",
       "      <th>count</th>\n",
       "      <td>24759.000000</td>\n",
       "      <td>24759.000000</td>\n",
       "    </tr>\n",
       "    <tr>\n",
       "      <th>mean</th>\n",
       "      <td>49516.000000</td>\n",
       "      <td>2.077457</td>\n",
       "    </tr>\n",
       "    <tr>\n",
       "      <th>std</th>\n",
       "      <td>7147.451994</td>\n",
       "      <td>1.027160</td>\n",
       "    </tr>\n",
       "    <tr>\n",
       "      <th>min</th>\n",
       "      <td>37137.000000</td>\n",
       "      <td>0.450628</td>\n",
       "    </tr>\n",
       "    <tr>\n",
       "      <th>25%</th>\n",
       "      <td>43326.500000</td>\n",
       "      <td>1.305528</td>\n",
       "    </tr>\n",
       "    <tr>\n",
       "      <th>50%</th>\n",
       "      <td>49516.000000</td>\n",
       "      <td>1.887982</td>\n",
       "    </tr>\n",
       "    <tr>\n",
       "      <th>75%</th>\n",
       "      <td>55705.500000</td>\n",
       "      <td>2.651156</td>\n",
       "    </tr>\n",
       "    <tr>\n",
       "      <th>max</th>\n",
       "      <td>61895.000000</td>\n",
       "      <td>5.264547</td>\n",
       "    </tr>\n",
       "  </tbody>\n",
       "</table>\n",
       "</div>"
      ],
      "text/plain": [
       "                 id   MedHouseVal\n",
       "count  24759.000000  24759.000000\n",
       "mean   49516.000000      2.077457\n",
       "std     7147.451994      1.027160\n",
       "min    37137.000000      0.450628\n",
       "25%    43326.500000      1.305528\n",
       "50%    49516.000000      1.887982\n",
       "75%    55705.500000      2.651156\n",
       "max    61895.000000      5.264547"
      ]
     },
     "execution_count": 12,
     "metadata": {},
     "output_type": "execute_result"
    }
   ],
   "source": [
    "sub.describe()"
   ]
  },
  {
   "cell_type": "code",
   "execution_count": 13,
   "id": "6a9761e2",
   "metadata": {
    "execution": {
     "iopub.execute_input": "2023-01-07T13:42:08.796950Z",
     "iopub.status.busy": "2023-01-07T13:42:08.796555Z",
     "iopub.status.idle": "2023-01-07T13:42:08.805684Z",
     "shell.execute_reply": "2023-01-07T13:42:08.804943Z"
    },
    "papermill": {
     "duration": 0.024955,
     "end_time": "2023-01-07T13:42:08.807602",
     "exception": false,
     "start_time": "2023-01-07T13:42:08.782647",
     "status": "completed"
    },
    "tags": []
   },
   "outputs": [
    {
     "data": {
      "text/html": [
       "<div>\n",
       "<style scoped>\n",
       "    .dataframe tbody tr th:only-of-type {\n",
       "        vertical-align: middle;\n",
       "    }\n",
       "\n",
       "    .dataframe tbody tr th {\n",
       "        vertical-align: top;\n",
       "    }\n",
       "\n",
       "    .dataframe thead th {\n",
       "        text-align: right;\n",
       "    }\n",
       "</style>\n",
       "<table border=\"1\" class=\"dataframe\">\n",
       "  <thead>\n",
       "    <tr style=\"text-align: right;\">\n",
       "      <th></th>\n",
       "      <th>id</th>\n",
       "      <th>MedHouseVal</th>\n",
       "    </tr>\n",
       "  </thead>\n",
       "  <tbody>\n",
       "    <tr>\n",
       "      <th>0</th>\n",
       "      <td>37137</td>\n",
       "      <td>0.710616</td>\n",
       "    </tr>\n",
       "    <tr>\n",
       "      <th>1</th>\n",
       "      <td>37138</td>\n",
       "      <td>1.051312</td>\n",
       "    </tr>\n",
       "    <tr>\n",
       "      <th>2</th>\n",
       "      <td>37139</td>\n",
       "      <td>4.354939</td>\n",
       "    </tr>\n",
       "    <tr>\n",
       "      <th>3</th>\n",
       "      <td>37140</td>\n",
       "      <td>3.311152</td>\n",
       "    </tr>\n",
       "    <tr>\n",
       "      <th>4</th>\n",
       "      <td>37141</td>\n",
       "      <td>2.537045</td>\n",
       "    </tr>\n",
       "  </tbody>\n",
       "</table>\n",
       "</div>"
      ],
      "text/plain": [
       "      id  MedHouseVal\n",
       "0  37137     0.710616\n",
       "1  37138     1.051312\n",
       "2  37139     4.354939\n",
       "3  37140     3.311152\n",
       "4  37141     2.537045"
      ]
     },
     "execution_count": 13,
     "metadata": {},
     "output_type": "execute_result"
    }
   ],
   "source": [
    "sub.head()"
   ]
  }
 ],
 "metadata": {
  "kernelspec": {
   "display_name": "Python 3",
   "language": "python",
   "name": "python3"
  },
  "language_info": {
   "codemirror_mode": {
    "name": "ipython",
    "version": 3
   },
   "file_extension": ".py",
   "mimetype": "text/x-python",
   "name": "python",
   "nbconvert_exporter": "python",
   "pygments_lexer": "ipython3",
   "version": "3.7.12"
  },
  "papermill": {
   "default_parameters": {},
   "duration": 5060.412319,
   "end_time": "2023-01-07T13:42:10.758101",
   "environment_variables": {},
   "exception": null,
   "input_path": "__notebook__.ipynb",
   "output_path": "__notebook__.ipynb",
   "parameters": {},
   "start_time": "2023-01-07T12:17:50.345782",
   "version": "2.3.4"
  }
 },
 "nbformat": 4,
 "nbformat_minor": 5
}
